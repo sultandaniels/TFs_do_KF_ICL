{
 "cells": [
  {
   "cell_type": "markdown",
   "metadata": {},
   "source": [
    "# A Script to Compute the Relative Entropy Rate between the Observations of Two Linear Systems \n",
    "(Second version)"
   ]
  },
  {
   "cell_type": "markdown",
   "metadata": {},
   "source": []
  },
  {
   "cell_type": "code",
   "execution_count": 6,
   "metadata": {},
   "outputs": [],
   "source": [
    "import numpy as np\n",
    "import scipy.linalg as la\n",
    "import linalg_helpers as la_help\n",
    "import control as ct\n",
    "import compute_relative_entropy as com_rel\n",
    "import matplotlib.pyplot as plt"
   ]
  },
  {
   "cell_type": "code",
   "execution_count": null,
   "metadata": {},
   "outputs": [],
   "source": [
    "def generate_random_A(nx, W, type=\"gauss\", cond_num_threshold=np.inf):\n",
    "    cond_num = np.inf\n",
    "    while cond_num >= cond_num_threshold:\n",
    "        if type == \"gauss\":\n",
    "            A = np.sqrt(0.33)*np.random.randn(nx, nx)\n",
    "            max_eig = np.max(np.abs(la.eigvals(A)))\n",
    "            A = 0.95*A / max_eig\n",
    "        elif type == \"upptri\":\n",
    "            A = np.diag(np.random.uniform(-1, 1, nx)) * 0.95\n",
    "            A[np.triu_indices(nx, 1)] = np.random.uniform(-1, 1, (nx ** 2 + nx) // 2 - nx)\n",
    "\n",
    "        Pi = ct.dlyap(A, W).astype(np.float64)\n",
    "        cond_num = np.linalg.cond(Pi)\n",
    "    print(\"cond_num of Pi: \", cond_num)\n",
    "\n",
    "    return A.astype(np.float64), Pi\n",
    "\n",
    "def generate_random_C(nx, ny, Pi, noise_sigma, E=1, zero_C=False):\n",
    "    if zero_C:\n",
    "        C = np.zeros((ny, nx))\n",
    "    else:\n",
    "        C = np.sqrt(0.333333333)*np.random.randn(ny, nx)\n",
    "    V = (noise_sigma**2)*np.eye(ny).astype(np.float64) \n",
    "\n",
    "    obs_tr = np.trace(C @ Pi @ C.T + V)\n",
    "\n",
    "    if obs_tr < 0:\n",
    "        print(\"obs_tr negative:\", obs_tr)\n",
    "        print(\"evals of Pi\", eval)\n",
    "        print(\"evals greater than 0?\", np.greater(eval, 0))\n",
    "        print(\"all positive\", np.all(np.greater(eval, 0)))\n",
    "        print(\"eval of CPiCT:\", la.eig(C @ Pi @ C.T))\n",
    "        raise ValueError(\"Didn't catch negative evals\")\n",
    "    \n",
    "    alpha = np.sqrt(E / obs_tr)\n",
    "\n",
    "    C = alpha*C\n",
    "    sigma_v = alpha*noise_sigma\n",
    "    V = np.eye(ny) * (sigma_v ** 2)\n",
    "\n",
    "    print(\"trace:\", np.trace(C@Pi@C.T + V))\n",
    "    return C.astype(np.float64), V.astype(np.float64)"
   ]
  },
  {
   "cell_type": "code",
   "execution_count": 13,
   "metadata": {},
   "outputs": [],
   "source": [
    "nx = 2\n",
    "ny = 2\n",
    "noise_std = 1e-1\n",
    "\n",
    "context = 8\n",
    "\n",
    "# C = np.block([np.eye(ny), np.zeros((ny, nx-ny))]).astype(np.float64) # observable\n",
    "W = (noise_std**2)*np.eye(nx).astype(np.float64)\n",
    "\n"
   ]
  },
  {
   "cell_type": "code",
   "execution_count": null,
   "metadata": {},
   "outputs": [
    {
     "name": "stdout",
     "output_type": "stream",
     "text": [
      "cond_num of Pi:  4.0169892631732305\n",
      "cond_num of Pi:  18.342593826814305\n",
      "trace: 1.0000000000000002\n",
      "trace: 0.9999999999999998\n"
     ]
    }
   ],
   "source": [
    "A,Pi = generate_random_A(nx, W)\n",
    "Ap,Pi_p = generate_random_A(nx, W, type=\"gauss\")\n",
    "\n",
    "C, V = generate_random_C(nx, ny, Pi, noise_std)\n",
    "Cp, Vp = generate_random_C(nx, ny, Pi_p, noise_std, zero_C=True)\n",
    "\n",
    "# A = 0.95*np.eye(nx)\n",
    "# Pi = ct.dlyap(A, W).astype(np.float64)\n",
    "# Ap = 0.9*np.eye(nx)\n",
    "# Pi_p = ct.dlyap(Ap, W).astype(np.float64)"
   ]
  },
  {
   "cell_type": "code",
   "execution_count": 22,
   "metadata": {},
   "outputs": [
    {
     "name": "stdout",
     "output_type": "stream",
     "text": [
      "cond num of CPiC^T + V:  1.0\n",
      "cond num of CPi_pC^T + V:  1.0\n",
      "trace num of CPiC^T + V:  1.0000000000000002\n",
      "trace num of CPi_pC^T + V:  0.9999999999999998\n"
     ]
    }
   ],
   "source": [
    "print(\"cond num of CPiC^T + V: \", np.linalg.cond(C @ Pi @ C.T + V))\n",
    "print(\"cond num of CPi_pC^T + V: \", np.linalg.cond(Cp @ Pi_p @ Cp.T + Vp))\n",
    "print(\"trace num of CPiC^T + V: \", np.trace(C @ Pi @ C.T + V))\n",
    "print(\"trace num of CPi_pC^T + V: \", np.trace(Cp @ Pi_p @ Cp.T + Vp))\n"
   ]
  },
  {
   "cell_type": "code",
   "execution_count": 23,
   "metadata": {},
   "outputs": [
    {
     "name": "stdout",
     "output_type": "stream",
     "text": [
      "k: 0\n",
      "cond(K_k): 1.0\n",
      "k: 1\n",
      "cond(K_k): 1.0\n",
      "k: 2\n",
      "cond(K_k): 1.0\n",
      "k: 3\n",
      "cond(K_k): 1.0\n",
      "k: 4\n",
      "cond(K_k): 1.0\n",
      "k: 5\n",
      "cond(K_k): 1.0\n",
      "k: 6\n",
      "cond(K_k): 1.0\n",
      "k: 7\n",
      "cond(K_k): 1.0\n",
      "ran for context: 8\n",
      "Matrix K_k @ K_k^inv:\n",
      "    1.0000     0.0000     0.0000     0.0000     0.0000     0.0000     0.0000     0.0000     0.0000     0.0000     0.0000     0.0000     0.0000     0.0000     0.0000     0.0000 \n",
      "    0.0000     1.0000     0.0000     0.0000     0.0000     0.0000     0.0000     0.0000     0.0000     0.0000     0.0000     0.0000     0.0000     0.0000     0.0000     0.0000 \n",
      "    0.0000     0.0000     1.0000     0.0000     0.0000     0.0000     0.0000     0.0000     0.0000     0.0000     0.0000     0.0000     0.0000     0.0000     0.0000     0.0000 \n",
      "    0.0000     0.0000     0.0000     1.0000     0.0000     0.0000     0.0000     0.0000     0.0000     0.0000     0.0000     0.0000     0.0000     0.0000     0.0000     0.0000 \n",
      "    0.0000     0.0000     0.0000     0.0000     1.0000     0.0000     0.0000     0.0000     0.0000     0.0000     0.0000     0.0000     0.0000     0.0000     0.0000     0.0000 \n",
      "    0.0000     0.0000     0.0000     0.0000     0.0000     1.0000     0.0000     0.0000     0.0000     0.0000     0.0000     0.0000     0.0000     0.0000     0.0000     0.0000 \n",
      "    0.0000     0.0000     0.0000     0.0000     0.0000     0.0000     1.0000     0.0000     0.0000     0.0000     0.0000     0.0000     0.0000     0.0000     0.0000     0.0000 \n",
      "    0.0000     0.0000     0.0000     0.0000     0.0000     0.0000     0.0000     1.0000     0.0000     0.0000     0.0000     0.0000     0.0000     0.0000     0.0000     0.0000 \n",
      "    0.0000     0.0000     0.0000     0.0000     0.0000     0.0000     0.0000     0.0000     1.0000     0.0000     0.0000     0.0000     0.0000     0.0000     0.0000     0.0000 \n",
      "    0.0000     0.0000     0.0000     0.0000     0.0000     0.0000     0.0000     0.0000     0.0000     1.0000     0.0000     0.0000     0.0000     0.0000     0.0000     0.0000 \n",
      "    0.0000     0.0000     0.0000     0.0000     0.0000     0.0000     0.0000     0.0000     0.0000     0.0000     1.0000     0.0000     0.0000     0.0000     0.0000     0.0000 \n",
      "    0.0000     0.0000     0.0000     0.0000     0.0000     0.0000     0.0000     0.0000     0.0000     0.0000     0.0000     1.0000     0.0000     0.0000     0.0000     0.0000 \n",
      "    0.0000     0.0000     0.0000     0.0000     0.0000     0.0000     0.0000     0.0000     0.0000     0.0000     0.0000     0.0000     1.0000     0.0000     0.0000     0.0000 \n",
      "    0.0000     0.0000     0.0000     0.0000     0.0000     0.0000     0.0000     0.0000     0.0000     0.0000     0.0000     0.0000     0.0000     1.0000     0.0000     0.0000 \n",
      "    0.0000     0.0000     0.0000     0.0000     0.0000     0.0000     0.0000     0.0000     0.0000     0.0000     0.0000     0.0000     0.0000     0.0000     1.0000     0.0000 \n",
      "    0.0000     0.0000     0.0000     0.0000     0.0000     0.0000     0.0000     0.0000     0.0000     0.0000     0.0000     0.0000     0.0000     0.0000     0.0000     1.0000 \n",
      "k: 0\n",
      "cond(K_k): 1.0\n",
      "k: 1\n",
      "cond(K_k): 1.0\n",
      "k: 2\n",
      "cond(K_k): 1.0\n",
      "k: 3\n",
      "cond(K_k): 1.0\n",
      "k: 4\n",
      "cond(K_k): 1.0\n",
      "k: 5\n",
      "cond(K_k): 1.0\n",
      "k: 6\n",
      "cond(K_k): 1.0\n",
      "k: 7\n",
      "cond(K_k): 1.0\n",
      "ran for context: 8\n",
      "Matrix K_k @ K_k^inv:\n",
      "    1.0000     0.0000     0.0000     0.0000     0.0000     0.0000     0.0000     0.0000     0.0000     0.0000     0.0000     0.0000     0.0000     0.0000     0.0000     0.0000 \n",
      "    0.0000     1.0000     0.0000     0.0000     0.0000     0.0000     0.0000     0.0000     0.0000     0.0000     0.0000     0.0000     0.0000     0.0000     0.0000     0.0000 \n",
      "    0.0000     0.0000     1.0000     0.0000     0.0000     0.0000     0.0000     0.0000     0.0000     0.0000     0.0000     0.0000     0.0000     0.0000     0.0000     0.0000 \n",
      "    0.0000     0.0000     0.0000     1.0000     0.0000     0.0000     0.0000     0.0000     0.0000     0.0000     0.0000     0.0000     0.0000     0.0000     0.0000     0.0000 \n",
      "    0.0000     0.0000     0.0000     0.0000     1.0000     0.0000     0.0000     0.0000     0.0000     0.0000     0.0000     0.0000     0.0000     0.0000     0.0000     0.0000 \n",
      "    0.0000     0.0000     0.0000     0.0000     0.0000     1.0000     0.0000     0.0000     0.0000     0.0000     0.0000     0.0000     0.0000     0.0000     0.0000     0.0000 \n",
      "    0.0000     0.0000     0.0000     0.0000     0.0000     0.0000     1.0000     0.0000     0.0000     0.0000     0.0000     0.0000     0.0000     0.0000     0.0000     0.0000 \n",
      "    0.0000     0.0000     0.0000     0.0000     0.0000     0.0000     0.0000     1.0000     0.0000     0.0000     0.0000     0.0000     0.0000     0.0000     0.0000     0.0000 \n",
      "    0.0000     0.0000     0.0000     0.0000     0.0000     0.0000     0.0000     0.0000     1.0000     0.0000     0.0000     0.0000     0.0000     0.0000     0.0000     0.0000 \n",
      "    0.0000     0.0000     0.0000     0.0000     0.0000     0.0000     0.0000     0.0000     0.0000     1.0000     0.0000     0.0000     0.0000     0.0000     0.0000     0.0000 \n",
      "    0.0000     0.0000     0.0000     0.0000     0.0000     0.0000     0.0000     0.0000     0.0000     0.0000     1.0000     0.0000     0.0000     0.0000     0.0000     0.0000 \n",
      "    0.0000     0.0000     0.0000     0.0000     0.0000     0.0000     0.0000     0.0000     0.0000     0.0000     0.0000     1.0000     0.0000     0.0000     0.0000     0.0000 \n",
      "    0.0000     0.0000     0.0000     0.0000     0.0000     0.0000     0.0000     0.0000     0.0000     0.0000     0.0000     0.0000     1.0000     0.0000     0.0000     0.0000 \n",
      "    0.0000     0.0000     0.0000     0.0000     0.0000     0.0000     0.0000     0.0000     0.0000     0.0000     0.0000     0.0000     0.0000     1.0000     0.0000     0.0000 \n",
      "    0.0000     0.0000     0.0000     0.0000     0.0000     0.0000     0.0000     0.0000     0.0000     0.0000     0.0000     0.0000     0.0000     0.0000     1.0000     0.0000 \n",
      "    0.0000     0.0000     0.0000     0.0000     0.0000     0.0000     0.0000     0.0000     0.0000     0.0000     0.0000     0.0000     0.0000     0.0000     0.0000     1.0000 \n"
     ]
    }
   ],
   "source": [
    "Kn, Kinvs, Finvs = com_rel.compute_cov_inv(A,C,V,Pi, context)\n",
    "Kn_p, Kinvs_p, Finvs_p = com_rel.compute_cov_inv(Ap,Cp,Vp,Pi_p, context)"
   ]
  },
  {
   "cell_type": "code",
   "execution_count": 24,
   "metadata": {},
   "outputs": [
    {
     "data": {
      "text/plain": [
       "True"
      ]
     },
     "execution_count": 24,
     "metadata": {},
     "output_type": "execute_result"
    }
   ],
   "source": [
    "np.allclose(Kn, Kn_p)"
   ]
  },
  {
   "cell_type": "markdown",
   "metadata": {},
   "source": [
    "# compute rel ent rate function\n",
    "\n",
    "(using natural log)"
   ]
  },
  {
   "cell_type": "code",
   "execution_count": 18,
   "metadata": {},
   "outputs": [],
   "source": [
    "def F_k(Kinv, ny):\n",
    "    return Kinv[:ny, :ny]\n",
    "\n",
    "def G_k(Kinv, ny):\n",
    "    return Kinv[:ny, ny:]"
   ]
  },
  {
   "cell_type": "code",
   "execution_count": 19,
   "metadata": {},
   "outputs": [
    {
     "name": "stdout",
     "output_type": "stream",
     "text": [
      "len(finvs):  8\n",
      "k: 1\n",
      "first term: 0.0\n",
      "second term: 0.0\n",
      "k: 2\n",
      "first term: 0.0\n",
      "second term: 0.0\n",
      "k: 3\n",
      "first term: 0.0\n",
      "second term: 0.0\n",
      "k: 4\n",
      "first term: 0.0\n",
      "second term: 0.0\n",
      "k: 5\n",
      "first term: 0.0\n",
      "second term: 0.0\n",
      "k: 6\n",
      "first term: 0.0\n",
      "second term: 0.0\n",
      "k: 7\n",
      "first term: 0.0\n",
      "second term: 0.0\n",
      "rel_ent:  [0.0, 0.0, 0.0, 0.0, 0.0, 0.0, 0.0, 0.0]\n"
     ]
    }
   ],
   "source": [
    "rel_ent = []\n",
    "print(\"len(finvs): \", len(Finvs))\n",
    "\n",
    "for k in range(context):\n",
    "\n",
    "    Gk = G_k(Kinvs[k], ny)\n",
    "    Gpk = G_k(Kinvs_p[k], ny)\n",
    "    Fk = F_k(Kinvs[k], ny)\n",
    "    Fpk = F_k(Kinvs_p[k], ny)\n",
    "    if k ==0:\n",
    "        K0 = com_rel.K_k(Kn,ny,0)\n",
    "        K0_p = com_rel.K_k(Kn_p,ny,0)\n",
    "        \n",
    "        rel_ent.append(0.5*(np.log(la.det(K0_p)) - np.log(la.det(K0)) + np.trace(Kinvs_p[k]@K0 - np.eye(ny)))) #from Polyanskiy and Wu Ex. 2.2 (non conditional relative entropy between two multivariate gaussians)\n",
    "    else:\n",
    "        print(\"k:\", k)\n",
    "        print(\"first term:\", np.log(la.det(Finvs[k])) - np.log(la.det(Finvs_p[k])))\n",
    "        print(\"second term:\", ny - np.trace(Finvs[k]@Fpk) - np.trace((Gk.T@Finvs[k]@Fpk@Finvs[k]@Gk - 2*Gpk.T@Finvs[k]@Gk + Gpk.T@Finvs_p[k]@Gpk)@Kinvs[k-1] ) )\n",
    "        rel_ent.append(rel_ent[k-1] - 0.5*(ny + np.log(la.det(Finvs[k])) - np.log(la.det(Finvs_p[k])) - np.trace(Finvs[k]@Fpk) - np.trace((Gk.T@Finvs[k]@Fpk@Finvs[k]@Gk - 2*Gpk.T@Finvs[k]@Gk + Gpk.T@Finvs_p[k]@Gpk)@Kinvs[k-1] ) )    )\n",
    "\n",
    "print(\"rel_ent: \", rel_ent)\n",
    "rel_ent_rates = [x / y for x, y in zip(rel_ent, range(1, len(rel_ent) + 1))]\n",
    "rel_ent_rates = np.array(rel_ent_rates)"
   ]
  },
  {
   "cell_type": "code",
   "execution_count": 20,
   "metadata": {},
   "outputs": [
    {
     "data": {
      "image/png": "[encoded data removed]",
      "text/plain": [
       "<Figure size 640x480 with 1 Axes>"
      ]
     },
     "metadata": {},
     "output_type": "display_data"
    }
   ],
   "source": [
    "#plot the relative entropy rate vs the context\n",
    "logscale=False\n",
    "if logscale:\n",
    "    intercept = 0.032\n",
    "    plt.xscale(\"log\")\n",
    "    plt.yscale(\"log\")\n",
    "else:\n",
    "    intercept = 0.0\n",
    "\n",
    "plt.plot(range(context), rel_ent_rates-intercept, marker=\".\")\n",
    "plt.xlabel(\"context\")\n",
    "plt.ylabel(\"relative entropy rate\")\n",
    "plt.title(\"Relative Entropy Rate vs Context\")\n",
    "\n",
    "# plt.ylim([-0.25, 20])\n",
    "plt.show()"
   ]
  },
  {
   "cell_type": "markdown",
   "metadata": {},
   "source": [
    "Compute the powers of $A$ and the first row of $K_N$"
   ]
  },
  {
   "cell_type": "code",
   "execution_count": 60,
   "metadata": {},
   "outputs": [
    {
     "ename": "AttributeError",
     "evalue": "module 'linalg_helpers' has no attribute 'compute_powers'",
     "output_type": "error",
     "traceback": [
      "\u001b[0;31m---------------------------------------------------------------------------\u001b[0m",
      "\u001b[0;31mAttributeError\u001b[0m                            Traceback (most recent call last)",
      "Cell \u001b[0;32mIn[60], line 1\u001b[0m\n\u001b[0;32m----> 1\u001b[0m A_powers \u001b[38;5;241m=\u001b[39m \u001b[43mla_help\u001b[49m\u001b[38;5;241;43m.\u001b[39;49m\u001b[43mcompute_powers\u001b[49m(A, context)\n\u001b[1;32m      3\u001b[0m values \u001b[38;5;241m=\u001b[39m C\u001b[38;5;129m@A_powers\u001b[39m\u001b[38;5;129m@Pi\u001b[39m\u001b[38;5;129m@C\u001b[39m\u001b[38;5;241m.\u001b[39mT\n\u001b[1;32m      4\u001b[0m \u001b[38;5;28;01mfor\u001b[39;00m i \u001b[38;5;129;01min\u001b[39;00m \u001b[38;5;28mrange\u001b[39m(context):\n",
      "\u001b[0;31mAttributeError\u001b[0m: module 'linalg_helpers' has no attribute 'compute_powers'"
     ]
    }
   ],
   "source": [
    "A_powers = la_help.compute_powers(A, context)\n",
    "\n",
    "values = C@A_powers@Pi@C.T\n",
    "for i in range(context):\n",
    "    la_help.print_matrix(values[i], f\"C A^{i} Π C^T\")\n",
    "\n",
    "# values = la_help.lower_threshold_matrix(values, 1e-5)\n",
    "# for i in range(context):\n",
    "#     la_help.print_matrix(values[i], f\"C A^{i} Π C^T thresholded\")"
   ]
  },
  {
   "cell_type": "markdown",
   "metadata": {},
   "source": [
    "Compute $K_N$"
   ]
  },
  {
   "cell_type": "code",
   "execution_count": 51,
   "metadata": {},
   "outputs": [
    {
     "name": "stdout",
     "output_type": "stream",
     "text": [
      "shape of Kn:  (50, 50)\n"
     ]
    }
   ],
   "source": [
    "Kn = la_help.block_toeplitz(values) + la_help.create_repeated_block_diagonal(V, context)\n",
    "print(\"shape of Kn: \", Kn.shape)"
   ]
  },
  {
   "cell_type": "markdown",
   "metadata": {},
   "source": [
    "\n",
    "\n",
    "Let $K_k^{-1} = \\begin{bmatrix}\n",
    "    F_k & G_k\\\\\n",
    "    G_k^T & H_k\n",
    "\\end{bmatrix}$.\n",
    "\n",
    "### Computing the Block Inverse Matrices\n",
    "Let us give the off-diagonal blocks of $K_k$ the name $K_{off}$. This means, $K_k \\triangleq \\begin{bmatrix}\n",
    "    K_{0} & K_{off}\\\\\n",
    "    K_{off}^T & K_{k-1}\n",
    "\\end{bmatrix}$.\n",
    "\\begin{align}\n",
    "    &K_k K_k^{-1} = I\\\\ \n",
    "    &\\Rightarrow K_0 F_k + K_{off} G_k^T = I; \\,\\, K_{off}^T G_k + K_{k-1} H_k = I; \\,\\, K_0 G_k + K_{off} H_k = \\mathbf{0}; \\,\\, \\text{and } K_{off}^T F_k + K_{k-1} G_k^T = \\mathbf{0}\\\\\n",
    "    &\\Rightarrow F_k = \\left(K_0 - K_{off}K_{k-1}^{-1}K_{off}^T\\right)^{-1}; \\\\ \n",
    "    &G_k = -F_k K_{off}K_{k-1}^{-1};\\\\\n",
    "    &\\text{and } H_k = K_{k-1}^{-1}\\left(I - K_{off}^T G_k\\right).\n",
    "\\end{align}\n",
    "\n",
    "#### Remark\n",
    "$F_k^{-1} = K_0 - K_{off}K_{k-1}^{-1}K_{off}^T$ requires no extra inverse because $K_{k-1}^{-1}$ is computed on the previous iteration. Furthermore $F_k^{-1} \\in \\R{m\\times m}$ always, so computing $F_k$ only requires the inversion of a small matrix compared to the dimension of $K_k$."
   ]
  },
  {
   "cell_type": "markdown",
   "metadata": {},
   "source": [
    "Compute $F_k^{-1}$, $G_k^{-1}$, and $K_k^{-1}$ for all $k$."
   ]
  },
  {
   "cell_type": "code",
   "execution_count": 30,
   "metadata": {},
   "outputs": [],
   "source": [
    "def K_k(Kn, k):\n",
    "    # The k-th Covariance matrix for the observation process\n",
    "    return Kn[-ny*(k+1):, -ny*(k+1):]"
   ]
  },
  {
   "cell_type": "code",
   "execution_count": 52,
   "metadata": {},
   "outputs": [
    {
     "name": "stdout",
     "output_type": "stream",
     "text": [
      "eigvals of K0: [1.7288974  0.28881186 0.43538825 0.8025     0.76926803]\n",
      "eigvals of Pi: [1.34967128 0.41611701 0.26497633 0.16979608 0.15427598 0.12513894\n",
      " 0.10000592 0.1047625  0.11146293 0.1092621 ]\n"
     ]
    }
   ],
   "source": [
    "print(\"eigvals of K0:\", abs(la.eigvals(C@Pi@C.T + V)))\n",
    "print(\"eigvals of Pi:\", abs(la.eigvals(Pi)))"
   ]
  },
  {
   "cell_type": "code",
   "execution_count": 55,
   "metadata": {},
   "outputs": [
    {
     "name": "stdout",
     "output_type": "stream",
     "text": [
      "ran for context: 10\n",
      "Matrix K_k @ K_k^inv:\n",
      "    1.0000    -0.0000     0.0000    -0.0000     0.0000    -0.0000    -0.0000     0.0000     0.0000     0.0000     0.0000    -0.0000    -0.0000    -0.0000    -0.0000    -0.0000     0.0000     0.0000    -0.0000    -0.0000    -0.0000    -0.0000    -0.0000     0.0000    -0.0000    -0.0000    -0.0000    -0.0000     0.0000     0.0000    -0.0000     0.0000     0.0000    -0.0000    -0.0000     0.0000     0.0000    -0.0000     0.0000    -0.0000    -0.0000     0.0000     0.0000    -0.0000     0.0000     0.0000    -0.0000    -0.0000    -0.0000     0.0000 \n",
      "    0.0000     1.0000    -0.0000     0.0000    -0.0000     0.0000    -0.0000     0.0000     0.0000    -0.0000    -0.0000    -0.0000     0.0000     0.0000     0.0000     0.0000    -0.0000     0.0000     0.0000     0.0000     0.0000    -0.0000    -0.0000    -0.0000     0.0000     0.0000     0.0000     0.0000    -0.0000    -0.0000     0.0000    -0.0000    -0.0000     0.0000     0.0000    -0.0000     0.0000    -0.0000     0.0000    -0.0000    -0.0000     0.0000     0.0000    -0.0000     0.0000     0.0000     0.0000     0.0000     0.0000    -0.0000 \n",
      "   -0.0000    -0.0000     1.0000    -0.0000     0.0000    -0.0000    -0.0000     0.0000     0.0000     0.0000     0.0000     0.0000    -0.0000    -0.0000     0.0000    -0.0000     0.0000     0.0000     0.0000    -0.0000    -0.0000    -0.0000     0.0000    -0.0000    -0.0000     0.0000    -0.0000    -0.0000     0.0000     0.0000    -0.0000    -0.0000     0.0000    -0.0000    -0.0000     0.0000    -0.0000     0.0000     0.0000    -0.0000    -0.0000     0.0000     0.0000    -0.0000     0.0000    -0.0000    -0.0000    -0.0000     0.0000     0.0000 \n",
      "    0.0000    -0.0000     0.0000     1.0000    -0.0000    -0.0000    -0.0000     0.0000    -0.0000     0.0000     0.0000     0.0000    -0.0000    -0.0000     0.0000    -0.0000     0.0000    -0.0000    -0.0000    -0.0000    -0.0000    -0.0000     0.0000    -0.0000    -0.0000    -0.0000    -0.0000    -0.0000     0.0000     0.0000    -0.0000    -0.0000     0.0000    -0.0000     0.0000     0.0000    -0.0000     0.0000    -0.0000    -0.0000    -0.0000     0.0000    -0.0000     0.0000     0.0000    -0.0000     0.0000    -0.0000     0.0000     0.0000 \n",
      "   -0.0000     0.0000    -0.0000     0.0000     1.0000     0.0000     0.0000    -0.0000     0.0000     0.0000     0.0000    -0.0000     0.0000     0.0000     0.0000     0.0000     0.0000    -0.0000     0.0000     0.0000     0.0000     0.0000    -0.0000     0.0000     0.0000     0.0000     0.0000     0.0000    -0.0000    -0.0000    -0.0000    -0.0000     0.0000    -0.0000     0.0000     0.0000     0.0000    -0.0000     0.0000     0.0000     0.0000    -0.0000     0.0000    -0.0000    -0.0000    -0.0000    -0.0000    -0.0000     0.0000     0.0000 \n",
      "    0.0000    -0.0000    -0.0000     0.0000    -0.0000     1.0000     0.0000    -0.0000     0.0000    -0.0000     0.0000    -0.0000     0.0000     0.0000    -0.0000    -0.0000     0.0000    -0.0000     0.0000     0.0000    -0.0000    -0.0000     0.0000     0.0000    -0.0000    -0.0000     0.0000    -0.0000     0.0000     0.0000     0.0000    -0.0000    -0.0000    -0.0000    -0.0000     0.0000     0.0000    -0.0000    -0.0000    -0.0000     0.0000    -0.0000     0.0000    -0.0000    -0.0000     0.0000     0.0000     0.0000    -0.0000    -0.0000 \n",
      "   -0.0000    -0.0000     0.0000    -0.0000     0.0000    -0.0000     1.0000     0.0000    -0.0000     0.0000     0.0000    -0.0000    -0.0000    -0.0000     0.0000     0.0000     0.0000    -0.0000    -0.0000     0.0000     0.0000    -0.0000    -0.0000    -0.0000    -0.0000     0.0000     0.0000    -0.0000    -0.0000    -0.0000     0.0000    -0.0000     0.0000    -0.0000    -0.0000    -0.0000    -0.0000     0.0000     0.0000    -0.0000    -0.0000    -0.0000     0.0000     0.0000     0.0000    -0.0000     0.0000    -0.0000     0.0000     0.0000 \n",
      "    0.0000     0.0000    -0.0000     0.0000    -0.0000     0.0000     0.0000     1.0000     0.0000    -0.0000    -0.0000     0.0000    -0.0000     0.0000    -0.0000     0.0000    -0.0000     0.0000     0.0000    -0.0000    -0.0000     0.0000     0.0000     0.0000     0.0000    -0.0000    -0.0000     0.0000     0.0000    -0.0000    -0.0000     0.0000    -0.0000     0.0000     0.0000    -0.0000    -0.0000    -0.0000     0.0000     0.0000    -0.0000     0.0000    -0.0000    -0.0000     0.0000     0.0000    -0.0000     0.0000    -0.0000    -0.0000 \n",
      "    0.0000    -0.0000     0.0000     0.0000    -0.0000    -0.0000     0.0000    -0.0000     1.0000     0.0000     0.0000    -0.0000     0.0000     0.0000    -0.0000    -0.0000     0.0000    -0.0000     0.0000     0.0000    -0.0000    -0.0000     0.0000     0.0000    -0.0000    -0.0000     0.0000    -0.0000    -0.0000     0.0000     0.0000    -0.0000    -0.0000    -0.0000    -0.0000     0.0000     0.0000    -0.0000    -0.0000    -0.0000     0.0000    -0.0000     0.0000    -0.0000    -0.0000    -0.0000     0.0000     0.0000     0.0000     0.0000 \n",
      "   -0.0000     0.0000    -0.0000    -0.0000     0.0000     0.0000    -0.0000     0.0000    -0.0000     1.0000    -0.0000     0.0000    -0.0000    -0.0000     0.0000     0.0000    -0.0000     0.0000    -0.0000    -0.0000     0.0000     0.0000    -0.0000    -0.0000     0.0000     0.0000    -0.0000     0.0000     0.0000    -0.0000    -0.0000     0.0000     0.0000     0.0000     0.0000    -0.0000    -0.0000     0.0000     0.0000     0.0000    -0.0000     0.0000    -0.0000     0.0000     0.0000     0.0000    -0.0000    -0.0000    -0.0000    -0.0000 \n",
      "   -0.0000    -0.0000     0.0000    -0.0000     0.0000    -0.0000     0.0000     0.0000    -0.0000     0.0000     1.0000    -0.0000     0.0000    -0.0000     0.0000    -0.0000     0.0000    -0.0000     0.0000     0.0000     0.0000    -0.0000     0.0000    -0.0000    -0.0000     0.0000     0.0000    -0.0000    -0.0000     0.0000     0.0000    -0.0000     0.0000    -0.0000    -0.0000     0.0000     0.0000    -0.0000    -0.0000    -0.0000     0.0000    -0.0000     0.0000     0.0000    -0.0000    -0.0000     0.0000    -0.0000     0.0000     0.0000 \n",
      "    0.0000    -0.0000    -0.0000     0.0000    -0.0000     0.0000     0.0000    -0.0000     0.0000    -0.0000     0.0000     1.0000     0.0000     0.0000    -0.0000    -0.0000     0.0000    -0.0000     0.0000     0.0000    -0.0000    -0.0000     0.0000     0.0000    -0.0000    -0.0000     0.0000    -0.0000     0.0000     0.0000     0.0000    -0.0000    -0.0000    -0.0000    -0.0000     0.0000     0.0000    -0.0000    -0.0000    -0.0000     0.0000    -0.0000     0.0000    -0.0000    -0.0000     0.0000     0.0000     0.0000    -0.0000    -0.0000 \n",
      "   -0.0000    -0.0000     0.0000    -0.0000     0.0000    -0.0000    -0.0000     0.0000    -0.0000     0.0000    -0.0000     0.0000     1.0000    -0.0000     0.0000     0.0000    -0.0000     0.0000    -0.0000    -0.0000     0.0000     0.0000    -0.0000    -0.0000     0.0000     0.0000    -0.0000     0.0000    -0.0000    -0.0000    -0.0000     0.0000     0.0000     0.0000     0.0000    -0.0000    -0.0000     0.0000     0.0000    -0.0000    -0.0000     0.0000    -0.0000     0.0000     0.0000    -0.0000    -0.0000     0.0000     0.0000     0.0000 \n",
      "    0.0000    -0.0000     0.0000    -0.0000     0.0000    -0.0000     0.0000    -0.0000     0.0000     0.0000     0.0000    -0.0000     0.0000     1.0000    -0.0000    -0.0000     0.0000    -0.0000     0.0000     0.0000     0.0000    -0.0000     0.0000     0.0000    -0.0000    -0.0000     0.0000    -0.0000    -0.0000     0.0000     0.0000    -0.0000     0.0000    -0.0000    -0.0000     0.0000     0.0000    -0.0000    -0.0000     0.0000     0.0000    -0.0000     0.0000    -0.0000    -0.0000    -0.0000     0.0000    -0.0000     0.0000     0.0000 \n",
      "   -0.0000     0.0000    -0.0000     0.0000     0.0000     0.0000    -0.0000     0.0000    -0.0000    -0.0000    -0.0000     0.0000    -0.0000     0.0000     1.0000     0.0000    -0.0000     0.0000    -0.0000    -0.0000    -0.0000     0.0000    -0.0000    -0.0000     0.0000     0.0000    -0.0000     0.0000     0.0000    -0.0000    -0.0000     0.0000    -0.0000     0.0000     0.0000    -0.0000    -0.0000     0.0000     0.0000     0.0000    -0.0000     0.0000    -0.0000     0.0000     0.0000     0.0000    -0.0000     0.0000    -0.0000    -0.0000 \n",
      "    0.0000     0.0000    -0.0000     0.0000    -0.0000     0.0000     0.0000    -0.0000     0.0000    -0.0000     0.0000    -0.0000     0.0000     0.0000    -0.0000     1.0000     0.0000    -0.0000     0.0000     0.0000    -0.0000    -0.0000     0.0000     0.0000    -0.0000    -0.0000     0.0000    -0.0000     0.0000     0.0000     0.0000    -0.0000     0.0000    -0.0000    -0.0000     0.0000     0.0000    -0.0000    -0.0000     0.0000     0.0000    -0.0000     0.0000    -0.0000    -0.0000    -0.0000     0.0000    -0.0000    -0.0000     0.0000 \n",
      "   -0.0000    -0.0000     0.0000    -0.0000     0.0000    -0.0000     0.0000     0.0000    -0.0000     0.0000     0.0000    -0.0000     0.0000    -0.0000     0.0000    -0.0000     1.0000    -0.0000    -0.0000     0.0000     0.0000    -0.0000     0.0000    -0.0000    -0.0000     0.0000     0.0000    -0.0000    -0.0000     0.0000     0.0000    -0.0000     0.0000    -0.0000    -0.0000     0.0000     0.0000    -0.0000    -0.0000    -0.0000     0.0000    -0.0000     0.0000     0.0000    -0.0000    -0.0000     0.0000     0.0000     0.0000     0.0000 \n",
      "    0.0000     0.0000    -0.0000     0.0000    -0.0000     0.0000     0.0000    -0.0000     0.0000    -0.0000     0.0000     0.0000    -0.0000     0.0000    -0.0000     0.0000    -0.0000     1.0000     0.0000    -0.0000    -0.0000     0.0000     0.0000     0.0000     0.0000    -0.0000    -0.0000     0.0000     0.0000    -0.0000    -0.0000     0.0000    -0.0000     0.0000     0.0000     0.0000    -0.0000    -0.0000    -0.0000    -0.0000     0.0000     0.0000    -0.0000    -0.0000    -0.0000     0.0000    -0.0000     0.0000    -0.0000    -0.0000 \n",
      "    0.0000    -0.0000     0.0000     0.0000    -0.0000    -0.0000     0.0000    -0.0000     0.0000     0.0000     0.0000    -0.0000     0.0000     0.0000    -0.0000    -0.0000     0.0000    -0.0000     1.0000     0.0000     0.0000    -0.0000     0.0000     0.0000    -0.0000    -0.0000     0.0000    -0.0000    -0.0000     0.0000     0.0000    -0.0000     0.0000    -0.0000    -0.0000     0.0000     0.0000    -0.0000    -0.0000     0.0000     0.0000    -0.0000     0.0000    -0.0000    -0.0000    -0.0000     0.0000    -0.0000     0.0000     0.0000 \n",
      "   -0.0000     0.0000    -0.0000    -0.0000     0.0000     0.0000    -0.0000     0.0000    -0.0000    -0.0000    -0.0000     0.0000    -0.0000    -0.0000     0.0000     0.0000    -0.0000     0.0000    -0.0000     1.0000    -0.0000     0.0000    -0.0000    -0.0000     0.0000     0.0000    -0.0000     0.0000     0.0000    -0.0000    -0.0000     0.0000    -0.0000     0.0000     0.0000    -0.0000    -0.0000     0.0000     0.0000    -0.0000    -0.0000     0.0000    -0.0000     0.0000     0.0000     0.0000    -0.0000     0.0000    -0.0000    -0.0000 \n",
      "   -0.0000    -0.0000     0.0000    -0.0000     0.0000    -0.0000    -0.0000     0.0000    -0.0000     0.0000     0.0000    -0.0000     0.0000    -0.0000     0.0000    -0.0000     0.0000    -0.0000    -0.0000     0.0000     1.0000    -0.0000     0.0000    -0.0000    -0.0000     0.0000     0.0000    -0.0000    -0.0000     0.0000     0.0000    -0.0000     0.0000    -0.0000    -0.0000    -0.0000     0.0000    -0.0000    -0.0000     0.0000     0.0000    -0.0000     0.0000     0.0000    -0.0000    -0.0000     0.0000    -0.0000     0.0000     0.0000 \n",
      "    0.0000    -0.0000    -0.0000     0.0000    -0.0000     0.0000     0.0000    -0.0000     0.0000    -0.0000     0.0000    -0.0000     0.0000     0.0000    -0.0000    -0.0000     0.0000    -0.0000     0.0000     0.0000    -0.0000     1.0000     0.0000     0.0000    -0.0000    -0.0000     0.0000    -0.0000     0.0000     0.0000     0.0000    -0.0000     0.0000    -0.0000    -0.0000     0.0000     0.0000    -0.0000    -0.0000     0.0000     0.0000    -0.0000     0.0000    -0.0000    -0.0000    -0.0000     0.0000    -0.0000    -0.0000     0.0000 \n",
      "   -0.0000    -0.0000     0.0000    -0.0000     0.0000    -0.0000    -0.0000     0.0000    -0.0000     0.0000    -0.0000    -0.0000     0.0000    -0.0000     0.0000     0.0000    -0.0000     0.0000    -0.0000     0.0000    -0.0000     0.0000     1.0000    -0.0000     0.0000     0.0000    -0.0000     0.0000    -0.0000    -0.0000     0.0000     0.0000    -0.0000    -0.0000     0.0000     0.0000    -0.0000     0.0000    -0.0000    -0.0000    -0.0000     0.0000     0.0000     0.0000     0.0000    -0.0000    -0.0000     0.0000     0.0000     0.0000 \n",
      "   -0.0000    -0.0000     0.0000    -0.0000     0.0000    -0.0000     0.0000    -0.0000     0.0000     0.0000     0.0000    -0.0000     0.0000    -0.0000    -0.0000    -0.0000     0.0000    -0.0000     0.0000     0.0000     0.0000    -0.0000     0.0000     1.0000    -0.0000    -0.0000     0.0000    -0.0000    -0.0000     0.0000     0.0000    -0.0000     0.0000    -0.0000    -0.0000    -0.0000     0.0000    -0.0000    -0.0000     0.0000     0.0000    -0.0000     0.0000    -0.0000    -0.0000    -0.0000     0.0000    -0.0000     0.0000     0.0000 \n",
      "    0.0000     0.0000    -0.0000     0.0000    -0.0000     0.0000    -0.0000     0.0000    -0.0000    -0.0000    -0.0000     0.0000    -0.0000     0.0000     0.0000     0.0000    -0.0000     0.0000    -0.0000    -0.0000    -0.0000     0.0000    -0.0000    -0.0000     1.0000     0.0000    -0.0000     0.0000     0.0000    -0.0000    -0.0000     0.0000    -0.0000     0.0000     0.0000    -0.0000    -0.0000     0.0000     0.0000    -0.0000    -0.0000     0.0000    -0.0000     0.0000     0.0000     0.0000    -0.0000     0.0000    -0.0000    -0.0000 \n",
      "    0.0000     0.0000    -0.0000     0.0000    -0.0000     0.0000     0.0000    -0.0000     0.0000    -0.0000     0.0000    -0.0000     0.0000     0.0000    -0.0000    -0.0000     0.0000    -0.0000     0.0000     0.0000     0.0000    -0.0000     0.0000     0.0000    -0.0000     1.0000     0.0000    -0.0000     0.0000     0.0000     0.0000    -0.0000     0.0000     0.0000    -0.0000    -0.0000     0.0000    -0.0000    -0.0000     0.0000     0.0000    -0.0000     0.0000    -0.0000    -0.0000    -0.0000     0.0000    -0.0000    -0.0000     0.0000 \n",
      "   -0.0000    -0.0000     0.0000    -0.0000     0.0000    -0.0000     0.0000     0.0000    -0.0000     0.0000     0.0000    -0.0000     0.0000    -0.0000     0.0000    -0.0000     0.0000    -0.0000    -0.0000     0.0000     0.0000    -0.0000     0.0000    -0.0000    -0.0000    -0.0000     1.0000    -0.0000    -0.0000     0.0000     0.0000    -0.0000     0.0000    -0.0000    -0.0000     0.0000     0.0000    -0.0000    -0.0000     0.0000     0.0000    -0.0000     0.0000    -0.0000    -0.0000    -0.0000     0.0000    -0.0000     0.0000     0.0000 \n",
      "    0.0000     0.0000    -0.0000     0.0000    -0.0000     0.0000     0.0000    -0.0000     0.0000    -0.0000     0.0000    -0.0000     0.0000     0.0000    -0.0000    -0.0000     0.0000     0.0000     0.0000    -0.0000    -0.0000     0.0000    -0.0000     0.0000    -0.0000    -0.0000     0.0000     1.0000     0.0000    -0.0000    -0.0000     0.0000    -0.0000     0.0000     0.0000     0.0000    -0.0000    -0.0000    -0.0000    -0.0000     0.0000     0.0000    -0.0000    -0.0000    -0.0000     0.0000    -0.0000     0.0000    -0.0000    -0.0000 \n",
      "    0.0000    -0.0000    -0.0000     0.0000    -0.0000    -0.0000     0.0000    -0.0000     0.0000     0.0000     0.0000    -0.0000     0.0000     0.0000    -0.0000    -0.0000     0.0000    -0.0000     0.0000     0.0000     0.0000    -0.0000     0.0000     0.0000    -0.0000    -0.0000     0.0000    -0.0000     1.0000     0.0000     0.0000    -0.0000     0.0000    -0.0000    -0.0000    -0.0000     0.0000    -0.0000    -0.0000     0.0000     0.0000    -0.0000     0.0000    -0.0000    -0.0000    -0.0000     0.0000    -0.0000     0.0000     0.0000 \n",
      "   -0.0000     0.0000     0.0000    -0.0000     0.0000     0.0000    -0.0000     0.0000    -0.0000    -0.0000    -0.0000     0.0000    -0.0000    -0.0000     0.0000     0.0000    -0.0000     0.0000    -0.0000    -0.0000    -0.0000     0.0000    -0.0000    -0.0000     0.0000     0.0000    -0.0000     0.0000    -0.0000     1.0000    -0.0000     0.0000    -0.0000     0.0000     0.0000     0.0000    -0.0000     0.0000     0.0000    -0.0000    -0.0000     0.0000    -0.0000     0.0000     0.0000     0.0000    -0.0000     0.0000    -0.0000    -0.0000 \n",
      "   -0.0000    -0.0000     0.0000    -0.0000     0.0000    -0.0000    -0.0000     0.0000    -0.0000     0.0000    -0.0000    -0.0000     0.0000    -0.0000     0.0000    -0.0000     0.0000    -0.0000    -0.0000     0.0000     0.0000    -0.0000     0.0000    -0.0000    -0.0000    -0.0000     0.0000    -0.0000    -0.0000     0.0000     1.0000    -0.0000     0.0000    -0.0000    -0.0000    -0.0000     0.0000    -0.0000    -0.0000     0.0000     0.0000    -0.0000     0.0000     0.0000    -0.0000    -0.0000     0.0000    -0.0000     0.0000     0.0000 \n",
      "    0.0000     0.0000    -0.0000     0.0000    -0.0000     0.0000     0.0000    -0.0000     0.0000    -0.0000     0.0000    -0.0000     0.0000     0.0000    -0.0000    -0.0000     0.0000    -0.0000     0.0000     0.0000     0.0000    -0.0000     0.0000     0.0000    -0.0000    -0.0000     0.0000    -0.0000     0.0000     0.0000     0.0000     1.0000     0.0000    -0.0000    -0.0000    -0.0000     0.0000    -0.0000    -0.0000     0.0000     0.0000    -0.0000     0.0000    -0.0000    -0.0000    -0.0000     0.0000    -0.0000     0.0000     0.0000 \n",
      "   -0.0000    -0.0000     0.0000    -0.0000     0.0000    -0.0000    -0.0000     0.0000    -0.0000     0.0000    -0.0000    -0.0000     0.0000    -0.0000     0.0000    -0.0000     0.0000    -0.0000    -0.0000     0.0000     0.0000    -0.0000    -0.0000    -0.0000     0.0000     0.0000    -0.0000    -0.0000    -0.0000    -0.0000     0.0000    -0.0000     1.0000    -0.0000    -0.0000     0.0000    -0.0000     0.0000    -0.0000    -0.0000    -0.0000    -0.0000     0.0000     0.0000     0.0000    -0.0000    -0.0000     0.0000     0.0000     0.0000 \n",
      "   -0.0000    -0.0000     0.0000    -0.0000     0.0000    -0.0000     0.0000    -0.0000     0.0000     0.0000     0.0000    -0.0000     0.0000    -0.0000    -0.0000    -0.0000     0.0000    -0.0000     0.0000     0.0000     0.0000    -0.0000     0.0000    -0.0000    -0.0000    -0.0000     0.0000    -0.0000    -0.0000     0.0000     0.0000    -0.0000     0.0000     1.0000    -0.0000    -0.0000     0.0000    -0.0000    -0.0000     0.0000     0.0000    -0.0000     0.0000    -0.0000    -0.0000    -0.0000     0.0000    -0.0000     0.0000     0.0000 \n",
      "    0.0000     0.0000    -0.0000     0.0000    -0.0000     0.0000    -0.0000     0.0000    -0.0000    -0.0000    -0.0000     0.0000    -0.0000     0.0000     0.0000     0.0000    -0.0000     0.0000    -0.0000    -0.0000    -0.0000     0.0000    -0.0000     0.0000     0.0000     0.0000    -0.0000     0.0000     0.0000    -0.0000    -0.0000     0.0000    -0.0000     0.0000     1.0000     0.0000    -0.0000     0.0000     0.0000    -0.0000    -0.0000     0.0000    -0.0000     0.0000     0.0000     0.0000    -0.0000     0.0000    -0.0000    -0.0000 \n",
      "    0.0000     0.0000    -0.0000     0.0000    -0.0000     0.0000     0.0000    -0.0000     0.0000    -0.0000     0.0000    -0.0000     0.0000     0.0000    -0.0000    -0.0000     0.0000    -0.0000     0.0000    -0.0000     0.0000    -0.0000     0.0000     0.0000    -0.0000    -0.0000     0.0000    -0.0000     0.0000     0.0000     0.0000    -0.0000     0.0000     0.0000    -0.0000     1.0000     0.0000    -0.0000     0.0000     0.0000     0.0000    -0.0000     0.0000    -0.0000    -0.0000    -0.0000     0.0000    -0.0000    -0.0000     0.0000 \n",
      "   -0.0000    -0.0000     0.0000    -0.0000     0.0000    -0.0000     0.0000     0.0000    -0.0000     0.0000     0.0000    -0.0000     0.0000    -0.0000     0.0000    -0.0000     0.0000    -0.0000    -0.0000     0.0000     0.0000    -0.0000     0.0000    -0.0000    -0.0000    -0.0000     0.0000    -0.0000    -0.0000     0.0000     0.0000    -0.0000     0.0000    -0.0000    -0.0000    -0.0000     1.0000    -0.0000    -0.0000     0.0000     0.0000    -0.0000     0.0000    -0.0000    -0.0000    -0.0000     0.0000    -0.0000     0.0000     0.0000 \n",
      "    0.0000     0.0000    -0.0000     0.0000    -0.0000     0.0000     0.0000    -0.0000     0.0000    -0.0000     0.0000    -0.0000     0.0000     0.0000    -0.0000    -0.0000     0.0000    -0.0000     0.0000    -0.0000    -0.0000    -0.0000     0.0000     0.0000    -0.0000    -0.0000     0.0000    -0.0000     0.0000     0.0000    -0.0000     0.0000    -0.0000     0.0000    -0.0000     0.0000     0.0000     1.0000    -0.0000     0.0000     0.0000    -0.0000     0.0000    -0.0000    -0.0000     0.0000     0.0000    -0.0000    -0.0000    -0.0000 \n",
      "    0.0000     0.0000    -0.0000     0.0000    -0.0000    -0.0000     0.0000    -0.0000     0.0000     0.0000     0.0000    -0.0000     0.0000     0.0000    -0.0000    -0.0000     0.0000    -0.0000     0.0000     0.0000     0.0000    -0.0000     0.0000     0.0000    -0.0000    -0.0000     0.0000    -0.0000     0.0000     0.0000     0.0000    -0.0000     0.0000    -0.0000    -0.0000    -0.0000     0.0000    -0.0000     1.0000     0.0000     0.0000    -0.0000     0.0000    -0.0000    -0.0000    -0.0000     0.0000    -0.0000     0.0000     0.0000 \n",
      "   -0.0000    -0.0000     0.0000    -0.0000     0.0000     0.0000    -0.0000     0.0000    -0.0000    -0.0000    -0.0000     0.0000    -0.0000    -0.0000     0.0000     0.0000    -0.0000     0.0000    -0.0000    -0.0000    -0.0000     0.0000    -0.0000    -0.0000     0.0000     0.0000    -0.0000     0.0000    -0.0000    -0.0000    -0.0000     0.0000    -0.0000     0.0000     0.0000     0.0000    -0.0000     0.0000     0.0000     1.0000    -0.0000     0.0000    -0.0000     0.0000     0.0000     0.0000    -0.0000     0.0000    -0.0000    -0.0000 \n",
      "   -0.0000    -0.0000     0.0000    -0.0000     0.0000    -0.0000    -0.0000     0.0000    -0.0000     0.0000    -0.0000    -0.0000     0.0000    -0.0000     0.0000    -0.0000     0.0000    -0.0000    -0.0000     0.0000     0.0000    -0.0000     0.0000    -0.0000    -0.0000    -0.0000     0.0000    -0.0000    -0.0000     0.0000     0.0000    -0.0000     0.0000    -0.0000    -0.0000    -0.0000     0.0000    -0.0000    -0.0000     0.0000     1.0000    -0.0000     0.0000     0.0000    -0.0000    -0.0000     0.0000    -0.0000     0.0000     0.0000 \n",
      "    0.0000     0.0000    -0.0000     0.0000    -0.0000     0.0000     0.0000    -0.0000     0.0000    -0.0000     0.0000    -0.0000     0.0000     0.0000    -0.0000    -0.0000     0.0000    -0.0000     0.0000     0.0000     0.0000    -0.0000     0.0000     0.0000    -0.0000    -0.0000     0.0000    -0.0000     0.0000     0.0000     0.0000    -0.0000     0.0000    -0.0000    -0.0000    -0.0000     0.0000    -0.0000    -0.0000     0.0000     0.0000     1.0000     0.0000    -0.0000    -0.0000    -0.0000     0.0000    -0.0000     0.0000     0.0000 \n",
      "   -0.0000    -0.0000     0.0000    -0.0000     0.0000    -0.0000    -0.0000     0.0000    -0.0000     0.0000    -0.0000    -0.0000     0.0000    -0.0000     0.0000    -0.0000     0.0000    -0.0000    -0.0000     0.0000     0.0000    -0.0000     0.0000    -0.0000    -0.0000    -0.0000     0.0000    -0.0000    -0.0000     0.0000     0.0000    -0.0000     0.0000    -0.0000    -0.0000    -0.0000     0.0000    -0.0000    -0.0000     0.0000     0.0000    -0.0000     1.0000     0.0000    -0.0000    -0.0000     0.0000    -0.0000     0.0000     0.0000 \n",
      "   -0.0000    -0.0000     0.0000    -0.0000     0.0000    -0.0000     0.0000    -0.0000    -0.0000     0.0000     0.0000    -0.0000     0.0000    -0.0000    -0.0000    -0.0000     0.0000    -0.0000     0.0000     0.0000     0.0000    -0.0000     0.0000    -0.0000    -0.0000    -0.0000     0.0000    -0.0000    -0.0000     0.0000     0.0000    -0.0000     0.0000    -0.0000    -0.0000    -0.0000     0.0000    -0.0000    -0.0000     0.0000     0.0000    -0.0000     0.0000     1.0000    -0.0000    -0.0000     0.0000    -0.0000     0.0000     0.0000 \n",
      "    0.0000     0.0000    -0.0000     0.0000    -0.0000     0.0000    -0.0000     0.0000    -0.0000    -0.0000    -0.0000     0.0000    -0.0000     0.0000     0.0000     0.0000    -0.0000     0.0000    -0.0000    -0.0000    -0.0000     0.0000    -0.0000     0.0000     0.0000     0.0000    -0.0000     0.0000     0.0000    -0.0000    -0.0000     0.0000    -0.0000     0.0000     0.0000     0.0000    -0.0000     0.0000     0.0000    -0.0000    -0.0000     0.0000    -0.0000     0.0000     1.0000     0.0000    -0.0000     0.0000    -0.0000    -0.0000 \n",
      "    0.0000     0.0000    -0.0000     0.0000    -0.0000     0.0000     0.0000    -0.0000     0.0000    -0.0000     0.0000     0.0000    -0.0000     0.0000    -0.0000     0.0000    -0.0000     0.0000     0.0000    -0.0000    -0.0000     0.0000     0.0000     0.0000    -0.0000    -0.0000    -0.0000     0.0000     0.0000    -0.0000    -0.0000     0.0000    -0.0000     0.0000     0.0000    -0.0000     0.0000    -0.0000     0.0000    -0.0000     0.0000     0.0000    -0.0000    -0.0000    -0.0000     1.0000    -0.0000     0.0000    -0.0000    -0.0000 \n",
      "   -0.0000    -0.0000     0.0000    -0.0000     0.0000    -0.0000     0.0000     0.0000    -0.0000     0.0000     0.0000    -0.0000     0.0000    -0.0000     0.0000    -0.0000     0.0000    -0.0000    -0.0000     0.0000     0.0000    -0.0000     0.0000    -0.0000    -0.0000    -0.0000     0.0000    -0.0000    -0.0000     0.0000     0.0000    -0.0000     0.0000    -0.0000    -0.0000    -0.0000     0.0000    -0.0000    -0.0000     0.0000     0.0000    -0.0000     0.0000     0.0000    -0.0000    -0.0000     1.0000    -0.0000     0.0000     0.0000 \n",
      "    0.0000     0.0000    -0.0000     0.0000    -0.0000     0.0000     0.0000    -0.0000     0.0000    -0.0000     0.0000    -0.0000     0.0000     0.0000    -0.0000    -0.0000     0.0000    -0.0000     0.0000     0.0000     0.0000    -0.0000     0.0000     0.0000    -0.0000    -0.0000     0.0000    -0.0000     0.0000     0.0000     0.0000    -0.0000     0.0000     0.0000    -0.0000    -0.0000     0.0000    -0.0000    -0.0000     0.0000     0.0000    -0.0000     0.0000    -0.0000    -0.0000    -0.0000     0.0000     1.0000    -0.0000     0.0000 \n",
      "    0.0000     0.0000    -0.0000     0.0000    -0.0000     0.0000     0.0000    -0.0000     0.0000    -0.0000     0.0000    -0.0000     0.0000     0.0000    -0.0000    -0.0000     0.0000    -0.0000     0.0000     0.0000     0.0000    -0.0000     0.0000     0.0000    -0.0000    -0.0000     0.0000    -0.0000     0.0000     0.0000     0.0000    -0.0000     0.0000    -0.0000    -0.0000    -0.0000     0.0000    -0.0000    -0.0000     0.0000     0.0000    -0.0000     0.0000    -0.0000    -0.0000    -0.0000     0.0000    -0.0000     1.0000     0.0000 \n",
      "   -0.0000    -0.0000     0.0000    -0.0000     0.0000    -0.0000    -0.0000     0.0000    -0.0000     0.0000    -0.0000     0.0000    -0.0000    -0.0000     0.0000     0.0000    -0.0000     0.0000    -0.0000    -0.0000    -0.0000     0.0000    -0.0000    -0.0000     0.0000     0.0000    -0.0000     0.0000    -0.0000    -0.0000    -0.0000     0.0000    -0.0000     0.0000     0.0000     0.0000    -0.0000     0.0000     0.0000    -0.0000    -0.0000     0.0000    -0.0000     0.0000     0.0000     0.0000    -0.0000     0.0000    -0.0000     1.0000 \n"
     ]
    }
   ],
   "source": [
    "Kinvs = []\n",
    "Finvs = []\n",
    "for k in range(context):\n",
    "    if k == 0:\n",
    "        Kinvs.append(la.inv(K_k(Kn, 0)))\n",
    "    else:\n",
    "        # la_help.print_matrix(K_k(Kn,k), f\"K_{k}\")\n",
    "        K0 = K_k(Kn, 0)\n",
    "        Koff = K_k(Kn, k)[:ny, ny:]\n",
    "\n",
    "        Finv = (K0 - Koff@Kinvs[k-1]@Koff.T)\n",
    "        Finvs.append(Finv)\n",
    "\n",
    "        Fk = la.inv(Finv)\n",
    "        if not np.allclose(Fk@Finv, np.eye(ny), atol=1e-10):\n",
    "            la_help.print_matrix(Fk@Finv, \"Fk @ Finv\")\n",
    "            raise ValueError(\"Fk is not the inverse of Finv\")\n",
    "        \n",
    "        Gk = -Fk@Koff@Kinvs[k-1]\n",
    "        Hk = Kinvs[k-1]@(np.eye(ny*k) - Koff.T@Gk)\n",
    "        Kinvs.append(np.block([[Fk, Gk], [Gk.T, Hk]]))\n",
    "\n",
    "        if not np.allclose(K_k(Kn, k)@Kinvs[k], np.eye(ny*(k+1)), atol=1e-5):\n",
    "            print(\"k:\", k)\n",
    "            print(\"eigvals of Kinvs[k]:\", np.sort(np.real(la.eigvals(Kinvs[k])))[::-1])\n",
    "            print(\"eigvals of K_k\", np.sort(np.real(la.eigvals(K_k(Kn, k))))[::1])\n",
    "            la_help.print_matrix(Koff, \"Koff\")\n",
    "            la_help.print_matrix(Fk, \"Fk\")\n",
    "            la_help.print_matrix(Finv, \"Finv\")\n",
    "            la_help.print_matrix(Gk, \"Gk\")\n",
    "            la_help.print_matrix(K_k(Kn, k)@Kinvs[k], \"K_k @ K_k^inv\")\n",
    "            context = k\n",
    "            raise ValueError(\"K_k^inv is not the inverse of K_K\")\n",
    "    \n",
    "print(\"ran for context:\", context)\n",
    "la_help.print_matrix(K_k(Kn, k)@Kinvs[k], \"K_k @ K_k^inv\")"
   ]
  }
 ],
 "metadata": {
  "kernelspec": {
   "display_name": "base",
   "language": "python",
   "name": "python3"
  },
  "language_info": {
   "codemirror_mode": {
    "name": "ipython",
    "version": 3
   },
   "file_extension": ".py",
   "mimetype": "text/x-python",
   "name": "python",
   "nbconvert_exporter": "python",
   "pygments_lexer": "ipython3",
   "version": "3.11.0"
  }
 },
 "nbformat": 4,
 "nbformat_minor": 2
}
