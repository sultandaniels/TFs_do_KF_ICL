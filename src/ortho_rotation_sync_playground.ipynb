{
 "cells": [
  {
   "cell_type": "code",
   "execution_count": 1,
   "id": "e45feb14",
   "metadata": {},
   "outputs": [],
   "source": [
    "import scipy.linalg as lin\n",
    "import numpy as np\n",
    "import numpy.linalg as lin\n",
    "import cmath\n",
    "import math\n",
    "from dyn_models.filtering_lti import gen_rand_ortho_haar_real\n",
    "import pickle"
   ]
  },
  {
   "cell_type": "code",
   "execution_count": 3,
   "id": "01358ace",
   "metadata": {},
   "outputs": [
    {
     "name": "stdout",
     "output_type": "stream",
     "text": [
      "x= [-0.37058639 -0.05326589  0.56100286  0.11749573 -0.68797822]\n",
      "||x||^2= 0.9420150143771565\n",
      "detQ1= 0.9999999999999997, detQ2= 1.0000000000000007\n",
      "||Q1x||^2= 0.9420150143771563, ||Q2x||^2= 0.9420150143771567\n"
     ]
    }
   ],
   "source": [
    "#generate a random gaussian vector\n",
    "n = 5\n",
    "x = np.random.randn(n)/np.sqrt(n)\n",
    "print(f\"x= {x}\")\n",
    "print(f\"||x||^2= {np.linalg.norm(x)**2}\")\n",
    "\n",
    "#generate a random orthogonal matrix\n",
    "#using the Haar measure\n",
    "Q1 = gen_rand_ortho_haar_real(n)\n",
    "Q2 = gen_rand_ortho_haar_real(n)\n",
    "print(f\"detQ1= {lin.det(Q1)}, detQ2= {lin.det(Q2)}\")\n",
    "\n",
    "print(f\"||Q1x||^2= {np.linalg.norm(Q1@x)**2}, ||Q2x||^2= {np.linalg.norm(Q2@x)**2}\")\n",
    "\n"
   ]
  },
  {
   "cell_type": "code",
   "execution_count": 4,
   "id": "48f5b857",
   "metadata": {},
   "outputs": [],
   "source": [
    "def gen_sync_powers(sync_ind, context, Q):\n",
    "    powers = np.empty((context, *Q.shape), dtype=Q.dtype)\n",
    "    for i in range(context):\n",
    "        p = i - sync_ind\n",
    "        if p < 0:\n",
    "            mat = Q.T\n",
    "        else:\n",
    "            mat = Q\n",
    "        powers[i] = lin.matrix_power(mat, abs(p))\n",
    "    return powers\n",
    "\n",
    "def gen_sync_trace(powers, x):\n",
    "    return powers @ x"
   ]
  },
  {
   "cell_type": "code",
   "execution_count": 9,
   "id": "b3b80f1a",
   "metadata": {},
   "outputs": [
    {
     "name": "stdout",
     "output_type": "stream",
     "text": [
      "x1= [[-0.3325998   0.1562718   0.41675527  0.27837199  0.12665283]\n",
      " [-0.47510888  0.13337606 -0.2970987  -0.25580908 -0.07097054]\n",
      " [ 0.09376479 -0.12590858 -0.23351846 -0.02776836  0.5677267 ]\n",
      " [ 0.22761422 -0.46923838  0.01608305 -0.30379759 -0.19420564]\n",
      " [ 0.52157263  0.24983321 -0.00391523  0.19659934 -0.17070174]]\n",
      "x2= [[-0.36143192  0.09272912  0.05476874 -0.40579781  0.30879954]\n",
      " [ 0.26705264 -0.38380711 -0.0941311   0.38661857  0.15906217]\n",
      " [-0.48311767  0.30548741  0.10665376  0.12075279 -0.22266311]\n",
      " [ 0.22761422 -0.46923838  0.01608305 -0.30379759 -0.19420564]\n",
      " [-0.13571921  0.23735148  0.36691592  0.08188819  0.43147649]]\n"
     ]
    }
   ],
   "source": [
    "sync_ind = 3\n",
    "context = 5\n",
    "\n",
    "x = np.random.randn(n)/np.sqrt(n)\n",
    "pow1 = gen_sync_powers(sync_ind, context, Q1)\n",
    "pow2 = gen_sync_powers(sync_ind, context, Q2)\n",
    "\n",
    "x1 = gen_sync_trace(pow1, x)\n",
    "x2 = gen_sync_trace(pow2, x)\n",
    "print(f\"x1= {x1}\")\n",
    "print(f\"x2= {x2}\")"
   ]
  },
  {
   "cell_type": "code",
   "execution_count": 8,
   "id": "8fd3f094",
   "metadata": {},
   "outputs": [],
   "source": [
    "with open(\"/data/shared/ICL_Kalman_Experiments/train_and_test_data/ortho_haar/val_ortho_haar_ident_C_state_dim_5.pkl\", \"rb\") as f:\n",
    "    val = pickle.load(f)"
   ]
  },
  {
   "cell_type": "code",
   "execution_count": 12,
   "id": "7b0a4399",
   "metadata": {},
   "outputs": [
    {
     "name": "stdout",
     "output_type": "stream",
     "text": [
      "<class 'list'>\n",
      "100000\n",
      "251\n"
     ]
    }
   ],
   "source": [
    "print(type(val))\n",
    "print(len(val))\n",
    "print(len(val[0][\"obs\"]))\n",
    "# print(val[0].keys())"
   ]
  },
  {
   "cell_type": "code",
   "execution_count": 15,
   "id": "865b1d64",
   "metadata": {},
   "outputs": [
    {
     "name": "stdout",
     "output_type": "stream",
     "text": [
      "val= (251, 5)\n"
     ]
    }
   ],
   "source": [
    "print(f\"val= {val[0][\"obs\"].shape}\")"
   ]
  },
  {
   "cell_type": "code",
   "execution_count": null,
   "id": "f12d4196",
   "metadata": {},
   "outputs": [],
   "source": []
  }
 ],
 "metadata": {
  "kernelspec": {
   "display_name": "mop",
   "language": "python",
   "name": "python3"
  },
  "language_info": {
   "codemirror_mode": {
    "name": "ipython",
    "version": 3
   },
   "file_extension": ".py",
   "mimetype": "text/x-python",
   "name": "python",
   "nbconvert_exporter": "python",
   "pygments_lexer": "ipython3",
   "version": "3.12.4"
  }
 },
 "nbformat": 4,
 "nbformat_minor": 5
}
