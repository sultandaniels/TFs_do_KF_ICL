{
 "cells": [
  {
   "cell_type": "markdown",
   "metadata": {},
   "source": [
    "# Rough Calculation for Number of Open Parentheses in Training Data"
   ]
  },
  {
   "cell_type": "code",
   "execution_count": 2,
   "metadata": {},
   "outputs": [],
   "source": [
    "import scipy.stats as stats"
   ]
  },
  {
   "cell_type": "markdown",
   "metadata": {},
   "source": [
    "## Average number of systems in a trace"
   ]
  },
  {
   "cell_type": "code",
   "execution_count": 11,
   "metadata": {},
   "outputs": [
    {
     "name": "stdout",
     "output_type": "stream",
     "text": [
      "average number of systems in a trace: 3.8980166787247157\n"
     ]
    }
   ],
   "source": [
    "# mean of a zipfian distribution\n",
    "a = 1.5 # parameter of zipfian distribution\n",
    "n = 25 # maximum value of zipfian distribution\n",
    "avg_sys_in_trace = stats.zipfian.mean(a, n)\n",
    "print(f\"average number of systems in a trace: {avg_sys_in_trace}\")"
   ]
  },
  {
   "cell_type": "markdown",
   "metadata": {},
   "source": [
    "## Average length of a trace segment"
   ]
  },
  {
   "cell_type": "code",
   "execution_count": 6,
   "metadata": {},
   "outputs": [
    {
     "name": "stdout",
     "output_type": "stream",
     "text": [
      "rough average length of a trace segment: 6.387863893939608\n"
     ]
    }
   ],
   "source": [
    "n_bin = 249 \n",
    "p_bin = 1/(10*avg_sys_in_trace) # parameter of binomial distribution\n",
    "\n",
    "avg_seg_len = n_bin*p_bin\n",
    "print(f\"rough average length of a trace segment: {avg_seg_len}\")"
   ]
  },
  {
   "cell_type": "markdown",
   "metadata": {},
   "source": [
    "## Average # of cuts in a trace"
   ]
  },
  {
   "cell_type": "code",
   "execution_count": 7,
   "metadata": {},
   "outputs": [
    {
     "name": "stdout",
     "output_type": "stream",
     "text": [
      "average number of cuts in a trace: 38.29326049638167\n",
      "3 x avg number of cuts x number of traces: 19299803.29017636\n"
     ]
    }
   ],
   "source": [
    "avg_num_cuts = 251/avg_seg_len - 1 # average number of cuts in the trace\n",
    "print(f\"average number of cuts in a trace: {avg_num_cuts}\")\n",
    "\n",
    "num_traces = 2*84000 #number of traces seen during training\n",
    "\n",
    "print(f\"3 x avg number of cuts x number of traces: {3*avg_num_cuts*num_traces}\")"
   ]
  },
  {
   "cell_type": "code",
   "execution_count": null,
   "metadata": {},
   "outputs": [],
   "source": []
  }
 ],
 "metadata": {
  "kernelspec": {
   "display_name": "mop",
   "language": "python",
   "name": "python3"
  },
  "language_info": {
   "codemirror_mode": {
    "name": "ipython",
    "version": 3
   },
   "file_extension": ".py",
   "mimetype": "text/x-python",
   "name": "python",
   "nbconvert_exporter": "python",
   "pygments_lexer": "ipython3",
   "version": "3.12.4"
  }
 },
 "nbformat": 4,
 "nbformat_minor": 2
}
