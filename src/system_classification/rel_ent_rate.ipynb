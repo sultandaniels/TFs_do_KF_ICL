{
 "cells": [
  {
   "cell_type": "markdown",
   "metadata": {},
   "source": [
    "# Numerical Relative Entropy Rate"
   ]
  },
  {
   "cell_type": "code",
   "execution_count": 20,
   "metadata": {},
   "outputs": [],
   "source": [
    "import numpy as np\n",
    "from scipy import linalg\n",
    "import control as ct"
   ]
  },
  {
   "cell_type": "code",
   "execution_count": 36,
   "metadata": {},
   "outputs": [],
   "source": [
    "def print_matrix(matrix, name):\n",
    "    \"\"\"\n",
    "    Print a matrix in a readable format.\n",
    "    \n",
    "    Parameters:\n",
    "    matrix (np.ndarray): The matrix to print.\n",
    "    \"\"\"\n",
    "    print(f\"{name}:\")\n",
    "    rows, cols = matrix.shape\n",
    "    for i in range(rows):\n",
    "        for j in range(cols):\n",
    "            print(f\"{matrix[i, j]:>10.4f}\", end=\" \")\n",
    "        print()"
   ]
  },
  {
   "cell_type": "code",
   "execution_count": 21,
   "metadata": {},
   "outputs": [],
   "source": [
    "def compute_powers(matrix, n):\n",
    "    # Initialize the array to hold the powers of the matrix\n",
    "    powers = np.empty((n, *matrix.shape), dtype=matrix.dtype)\n",
    "    \n",
    "    # Compute each power of the matrix\n",
    "    current_power = np.eye(matrix.shape[0], dtype=matrix.dtype)  # Start with the identity matrix\n",
    "    for i in range(n):\n",
    "        powers[i] = current_power\n",
    "        current_power = np.dot(current_power, matrix)\n",
    "    \n",
    "    return powers"
   ]
  },
  {
   "cell_type": "code",
   "execution_count": 53,
   "metadata": {},
   "outputs": [],
   "source": [
    "nx = 10\n",
    "ny = 5\n",
    "\n",
    "context = 250"
   ]
  },
  {
   "cell_type": "code",
   "execution_count": 23,
   "metadata": {},
   "outputs": [],
   "source": [
    "noise_std = 1e-1\n",
    "W = np.eye(nx) * (noise_std) ** 2\n",
    "V = np.eye(ny) * (noise_std) ** 2\n",
    "Pi = ct.dlyap(A, W)"
   ]
  },
  {
   "cell_type": "code",
   "execution_count": 24,
   "metadata": {},
   "outputs": [],
   "source": [
    "A = np.sqrt(0.33)*np.random.randn(nx, nx) #same second moment as uniform(-1,1)\n",
    "A /= np.max(np.abs(linalg.eigvals(A)))\n",
    "A = A * 0.95 #scale the matrix"
   ]
  },
  {
   "cell_type": "code",
   "execution_count": 25,
   "metadata": {},
   "outputs": [],
   "source": [
    "Ap = np.diag(np.random.uniform(-1, 1, nx)) * 0.95\n",
    "Ap[np.triu_indices(nx, 1)] = np.random.uniform(-1, 1, (nx ** 2 + nx) // 2 - nx)"
   ]
  },
  {
   "cell_type": "code",
   "execution_count": 26,
   "metadata": {},
   "outputs": [],
   "source": [
    "C = np.random.normal(0, np.sqrt(0.333333333), (ny, nx))"
   ]
  },
  {
   "cell_type": "markdown",
   "metadata": {},
   "source": [
    "### Compute the powers of A"
   ]
  },
  {
   "cell_type": "code",
   "execution_count": 54,
   "metadata": {},
   "outputs": [
    {
     "name": "stdout",
     "output_type": "stream",
     "text": [
      "shape of A_powers (250, 10, 10)\n"
     ]
    }
   ],
   "source": [
    "A_powers = compute_powers(A,context)\n",
    "\n",
    "print(\"shape of A_powers\", A_powers.shape)"
   ]
  },
  {
   "cell_type": "code",
   "execution_count": 56,
   "metadata": {},
   "outputs": [
    {
     "name": "stdout",
     "output_type": "stream",
     "text": [
      "(250, 5, 5)\n"
     ]
    }
   ],
   "source": [
    "#multiply by C and Pi\n",
    "vals = C@A_powers@Pi@C.T\n",
    "print(vals.shape)"
   ]
  },
  {
   "cell_type": "code",
   "execution_count": 57,
   "metadata": {},
   "outputs": [],
   "source": [
    "def block_toeplitz(blocks):\n",
    "    \"\"\"\n",
    "    Create a block Toeplitz matrix from a list of blocks.\n",
    "    \n",
    "    Parameters:\n",
    "    blocks (list of np.ndarray): List of 2D arrays representing the blocks.\n",
    "    \n",
    "    Returns:\n",
    "    np.ndarray: Block Toeplitz matrix.\n",
    "    \"\"\"\n",
    "    # Determine the size of each block and the number of blocks\n",
    "    block_shape = blocks[0].shape\n",
    "    num_blocks = len(blocks)\n",
    "\n",
    "    print(\"num_blocks\", num_blocks)\n",
    "    print(\"block_shape\", block_shape)\n",
    "    \n",
    "    # Initialize the block Toeplitz matrix\n",
    "    toeplitz_matrix = np.zeros((block_shape[0] * num_blocks, block_shape[1] * num_blocks))\n",
    "    \n",
    "    # Fill in the block Toeplitz matrix\n",
    "    for i in range(num_blocks):\n",
    "        for j in range(num_blocks):\n",
    "            if i >= j:\n",
    "                toeplitz_matrix[i*block_shape[0]:(i+1)*block_shape[0], j*block_shape[1]:(j+1)*block_shape[1]] = blocks[i-j].T\n",
    "            else:\n",
    "                toeplitz_matrix[i*block_shape[0]:(i+1)*block_shape[0], j*block_shape[1]:(j+1)*block_shape[1]] = blocks[j-i]\n",
    "    \n",
    "    return toeplitz_matrix\n",
    "\n",
    "def create_block_diagonal(mat, num_blocks):\n",
    "    \"\"\"\n",
    "    Create a block diagonal matrix with matrix mat along the diagonal and zeros elsewhere.\n",
    "    \n",
    "    Parameters:\n",
    "    mat (np.ndarray): The matrix to place along the diagonal.\n",
    "    num_blocks (int): The number of times to place mat along the diagonal.\n",
    "    \n",
    "    Returns:\n",
    "    np.ndarray: The block diagonal matrix.\n",
    "    \"\"\"\n",
    "    # Determine the shape of the block matrix\n",
    "    block_shape = mat.shape\n",
    "    block_size = block_shape[0] * num_blocks\n",
    "    \n",
    "    # Initialize the block diagonal matrix with zeros\n",
    "    block_diagonal_matrix = np.zeros((block_size, block_size))\n",
    "    \n",
    "    # Fill in the block diagonal matrix with mat along the diagonal\n",
    "    for i in range(num_blocks):\n",
    "        start_index = i * block_shape[0]\n",
    "        end_index = start_index + block_shape[0]\n",
    "        block_diagonal_matrix[start_index:end_index, start_index:end_index] = mat\n",
    "    \n",
    "    return block_diagonal_matrix"
   ]
  },
  {
   "cell_type": "markdown",
   "metadata": {},
   "source": [
    "### Create the Large Covariance Matrix\n",
    "\n",
    "We know that Kn contains all the other iterations of Kn in its bottom right block."
   ]
  },
  {
   "cell_type": "code",
   "execution_count": null,
   "metadata": {},
   "outputs": [
    {
     "name": "stdout",
     "output_type": "stream",
     "text": [
      "num_blocks 250\n",
      "block_shape (5, 5)\n",
      "(1250, 1250)\n"
     ]
    }
   ],
   "source": [
    "Kn = block_toeplitz(vals) + create_block_diagonal(V, context)"
   ]
  },
  {
   "cell_type": "markdown",
   "metadata": {},
   "source": [
    "### Compute Inverses of K"
   ]
  },
  {
   "cell_type": "markdown",
   "metadata": {},
   "source": [
    "https://en.wikipedia.org/wiki/Block_matrix#Inversion\n",
    "$$\n",
    "  \\begin{bmatrix}\n",
    "    {A} & {B} \\\\\n",
    "    {C} & {D}\n",
    "  \\end{bmatrix}^{-1} = \\begin{bmatrix}\n",
    "    \\left({A} - {B} {D}^{-1} {C}\\right)^{-1} & {0} \\\\\n",
    "    {0} & \\left({D} - {C} {A}^{-1} {B}\\right)^{-1}\n",
    "  \\end{bmatrix} \\begin{bmatrix}\n",
    "                     {I} & -{B} {D}^{-1} \\\\\n",
    "    -{C} {A}^{-1} &                  {I}\n",
    "  \\end{bmatrix}.\n",
    "  $$\n",
    "  \n",
    "\n",
    "  $A^{-1}$ never changes and $D^{-1}$ we computed on the last iteration.\n",
    "  <span style=\"color: blue;\">Computing the inverse using the above decomposition is slower and less accurate than scipy.linalg.inverse() on the full matrices.</span>"
   ]
  },
  {
   "cell_type": "code",
   "execution_count": null,
   "metadata": {},
   "outputs": [],
   "source": [
    "Kinvs = []\n",
    "Finvs = []\n",
    "for i in range(context):\n",
    "    Ki = Kn[-ny*(i+1):,-ny*(i+1):]\n",
    "    Kinv = linalg.inv(Ki)\n",
    "    Kinvs.append(Kinv)\n",
    "    Finv = linalg.inv(Kinv[:ny, :ny])\n",
    "    Finvs.append(Finv)\n",
    "    print_matrix(Finv, \"Finv\")\n",
    "    print_matrix(Kn[:ny, :ny], \"K0\")"
   ]
  },
  {
   "cell_type": "code",
   "execution_count": 72,
   "metadata": {},
   "outputs": [
    {
     "name": "stdout",
     "output_type": "stream",
     "text": [
      "250\n"
     ]
    }
   ],
   "source": [
    "print(len(Kinvs))"
   ]
  },
  {
   "cell_type": "code",
   "execution_count": null,
   "metadata": {},
   "outputs": [],
   "source": []
  }
 ],
 "metadata": {
  "kernelspec": {
   "display_name": "Python 3 (ipykernel)",
   "language": "python",
   "name": "python3"
  },
  "language_info": {
   "codemirror_mode": {
    "name": "ipython",
    "version": 3
   },
   "file_extension": ".py",
   "mimetype": "text/x-python",
   "name": "python",
   "nbconvert_exporter": "python",
   "pygments_lexer": "ipython3",
   "version": "3.12.3"
  }
 },
 "nbformat": 4,
 "nbformat_minor": 2
}
