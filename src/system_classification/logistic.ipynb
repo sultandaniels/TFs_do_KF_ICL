{
 "cells": [
  {
   "cell_type": "markdown",
   "metadata": {},
   "source": [
    "# A simple logistic regression classifier"
   ]
  },
  {
   "cell_type": "code",
   "execution_count": 7,
   "metadata": {},
   "outputs": [
    {
     "name": "stdout",
     "output_type": "stream",
     "text": [
      "/Users/sultandaniels/Documents/Transformer_Kalman/TFs_do_KF_ICL/src/system_classification\n",
      "/Users/sultandaniels/Documents/Transformer_Kalman/TFs_do_KF_ICL/src/system_classification\n",
      "Using device: cpu\n"
     ]
    }
   ],
   "source": [
    "import numpy as np\n",
    "from numpy.linalg import LinAlgError\n",
    "import matplotlib.pyplot as plt\n",
    "import pickle\n",
    "import os\n",
    "print(os.getcwd())\n",
    "import time\n",
    "import gc\n",
    "import torch\n",
    "import bisect\n",
    "import math\n",
    "#import sckit-learn logistic regression\n",
    "from sklearn.linear_model import LogisticRegression\n",
    "\n",
    "import sys\n",
    "sys.path.append(os.path.abspath('../../src'))\n",
    "\n",
    "from data_processing import gen_ckpt_steps, move_dict_to_device, get_other_err, get_mop_ratios_ckpt, compute_ratio, get_val_data"
   ]
  },
  {
   "cell_type": "code",
   "execution_count": 2,
   "metadata": {},
   "outputs": [],
   "source": [
    "# def logistic(x,beta):\n",
    "#     # x is a vector of size p + 1\n",
    "#     # beta is a vector of size p + 1\n",
    "#     # returns the logistic function\n",
    "#     return np.exp(np.dot(x,beta))/(1+np.exp(np.dot(x,beta)))\n",
    "\n",
    "# def gradl(x,y,beta):\n",
    "#     # x is a matrix of size N x (p+1)\n",
    "#     # y is a vector of size N\n",
    "#     # beta is a vector of size p + 1\n",
    "#     # returns the gradient of the log-likelihood function\n",
    "#     # print(\"shape of logistic(x,beta) = \",logistic(x,beta).shape)\n",
    "#     # print(\"shape of y = \",y.shape)\n",
    "#     # print(\"shape of x = \",x.shape)\n",
    "#     grad = np.dot(x.T,y-logistic(x,beta))\n",
    "#     return grad\n",
    "\n",
    "# def hessl(x,beta):\n",
    "#     # x is a matrix of size N x (p+1)\n",
    "#     # y is a vector of size N\n",
    "#     # beta is a vector of size p + 1\n",
    "#     # returns the hessian of the log-likelihood function\n",
    "#     hess = -x.T.dot(np.diag(logistic(x,beta)*(1-logistic(x,beta)))).dot(x)\n",
    "#     return hess"
   ]
  },
  {
   "cell_type": "code",
   "execution_count": 18,
   "metadata": {},
   "outputs": [],
   "source": [
    "# def newton_decrement_square(x,y,beta):\n",
    "#     # x is a matrix of size N x (p+1)\n",
    "#     # y is a vector of size N\n",
    "#     # beta is a vector of size p + 1\n",
    "#     # returns the Newton decrement squared\n",
    "#     try:\n",
    "#         out = np.dot(gradl(x,y,beta).T,np.linalg.inv(hessl(x,beta)).dot(gradl(x,y,beta)))\n",
    "\n",
    "#     except LinAlgError as e:\n",
    "#         print(f\"Hessian is a {e} error occured. Adding epsilon to diagonal.\")\n",
    "#         eps = 1e-3\n",
    "\n",
    "#         hess = hessl(x,beta)\n",
    "\n",
    "#         new_hess = hess + eps*np.eye(len(hess))\n",
    "#         out = np.dot(gradl(x,y,beta).T,np.linalg.inv(new_hess).dot(gradl(x,y,beta)))\n",
    "        \n",
    "#     return out\n",
    "\n",
    "# def newton(x,y,beta0, step_size, stop_criterion):\n",
    "#     # x is a matrix of size N x (p+1)\n",
    "#     # y is a vector of size N\n",
    "#     # beta0 is a vector of size p + 1\n",
    "#     # returns the estimated beta\n",
    "#     beta = beta0\n",
    "#     training_loss = []\n",
    "#     while -0.5*newton_decrement_square(x,y,beta)>stop_criterion:\n",
    "#         try:\n",
    "#             beta = beta - step_size*np.linalg.inv(hessl(x,beta)).dot(gradl(x,y,beta))\n",
    "#         except LinAlgError as e:\n",
    "#             print(f\"Hessian is a {e} occured when computing weights. Adding epsilon to diagonal.\")\n",
    "#             eps = 1e-3\n",
    "\n",
    "#             hess = hessl(x,beta)\n",
    "\n",
    "#             new_hess = hess + eps*np.eye(len(hess))\n",
    "#             beta = beta - step_size*np.linalg.inv(new_hess).dot(gradl(x,y,beta))\n",
    "\n",
    "#         current_loss = -np.sum(y*np.log(logistic(x,beta))+(1-y)*np.log(1-logistic(x,beta)))\n",
    "#         print(\"log loss:\", current_loss)\n",
    "#         training_loss.append(current_loss)\n",
    "#     return beta, training_loss"
   ]
  },
  {
   "cell_type": "code",
   "execution_count": 2,
   "metadata": {},
   "outputs": [
    {
     "name": "stdout",
     "output_type": "stream",
     "text": [
      "nx: 20\n",
      "context_len: 250\n",
      "trainA: upperTriA\n",
      "valA: upperTriA\n",
      "num_val_systems: 1000\n",
      "experiment strings: ['241117_204332.cee615_upperTriA_gauss_C_lr_1.584893192461114e-05_num_train_sys_40000', '241121_182725.0ad317_upperTriA_state_dim_3_gauss_C_lr_1.584893192461114e-05_num_train_sys_40000', '241124_004016.7a9db9_upperTriA_state_dim_20_gauss_C_lr_1.584893192461114e-05_num_train_sys_40000', '241124_025241.7a9db9_upperTriA_state_dim_20_gauss_C_state_dim_mix_lr_1.584893192461114e-05_num_train_sys_40000']\n"
     ]
    }
   ],
   "source": [
    "trainA = \"upperTriA\" #\"unifA\" #\"gaussA\" #\"gaussA_noscale\" #\"rotDiagA\" #\"rotDiagA_unif\" #\"rotDiagA_gauss\" #\"upperTriA\" #\"single_system\" #\"cond_num\" #\"mix_gauss_upptri_rotdiag\"\n",
    "valA = \"upperTriA\" #\"unifA\" #\"gaussA\" #\"gaussA_noscale\" #\"rotDiagA\" #\"rotDiagA_unif\" #\"rotDiagA_gauss\" #\"upperTriA\" #\"single_system\" #\"cond_num\"\n",
    "num_val_systems = 1000\n",
    "context_len = 250\n",
    "nx = 20\n",
    "print(\"nx:\", nx)\n",
    "\n",
    "print('context_len:', context_len)\n",
    "print('trainA:', trainA)\n",
    "print('valA:', valA)\n",
    "print(\"num_val_systems:\", num_val_systems)\n",
    "C_dist = \"_gauss_C\" #\"_unif_C\" #\"_gauss_C\" #\"_gauss_C_large_var\" #\"_single_system\"\n",
    "experiments = [\"241117_204332.cee615_upperTriA_gauss_C_lr_1.584893192461114e-05_num_train_sys_40000\", \"241121_182725.0ad317_upperTriA_state_dim_3_gauss_C_lr_1.584893192461114e-05_num_train_sys_40000\", \"241124_004016.7a9db9_upperTriA_state_dim_20_gauss_C_lr_1.584893192461114e-05_num_train_sys_40000\", \"241124_025241.7a9db9_upperTriA_state_dim_20_gauss_C_state_dim_mix_lr_1.584893192461114e-05_num_train_sys_40000\"]#, \"241107_233959.102bf2_gaussA_gauss_C_mix_lr_0\"]#, \"241117_204226.922f5f_rotDiagA_gauss_C_lr_1.584893192461114e-05_num_train_sys_40000\"]\n",
    "print(\"experiment strings:\", experiments)"
   ]
  },
  {
   "cell_type": "code",
   "execution_count": 8,
   "metadata": {},
   "outputs": [],
   "source": [
    "def pairwise_mul(array, n):\n",
    "    ydim = array.shape[1]\n",
    "    # Step 1: Slice the array to take the first n elements along axis 0\n",
    "    sliced_array = array[:n, :]\n",
    "\n",
    "    # Step 2: Flatten the sliced array\n",
    "    flattened_array = sliced_array.flatten()\n",
    "\n",
    "    # Step 3: Reshape the flattened array to shape (5n, 1)\n",
    "    reshaped_array = flattened_array.reshape(ydim * n, 1)\n",
    "\n",
    "    outer = reshaped_array@reshaped_array.T\n",
    "\n",
    "    flatten_out = outer.flatten()\n",
    "    return flatten_out"
   ]
  },
  {
   "cell_type": "markdown",
   "metadata": {},
   "source": [
    "#### Create the training examples through Pairwise Multiplication (still need to implement train-test split)"
   ]
  },
  {
   "cell_type": "code",
   "execution_count": null,
   "metadata": {},
   "outputs": [
    {
     "name": "stdout",
     "output_type": "stream",
     "text": [
      "200000.0\n"
     ]
    },
    {
     "ename": "ValueError",
     "evalue": "State dim 3 validation data does not exist for this experiment",
     "output_type": "error",
     "traceback": [
      "\u001b[0;31m---------------------------------------------------------------------------\u001b[0m",
      "\u001b[0;31mValueError\u001b[0m                                Traceback (most recent call last)",
      "Cell \u001b[0;32mIn[10], line 9\u001b[0m\n\u001b[1;32m      7\u001b[0m x \u001b[38;5;241m=\u001b[39m []\n\u001b[1;32m      8\u001b[0m \u001b[38;5;28;01mfor\u001b[39;00m i \u001b[38;5;129;01min\u001b[39;00m \u001b[38;5;28mrange\u001b[39m(\u001b[38;5;241m2\u001b[39m): \u001b[38;5;66;03m#classify first two experiments\u001b[39;00m\n\u001b[0;32m----> 9\u001b[0m     obs \u001b[38;5;241m=\u001b[39m get_val_data(valA, C_dist, experiments[\u001b[38;5;241m1\u001b[39m], nxs[i])\n\u001b[1;32m     10\u001b[0m     count \u001b[38;5;241m=\u001b[39m \u001b[38;5;241m0\u001b[39m\n\u001b[1;32m     11\u001b[0m     \u001b[38;5;28;01mfor\u001b[39;00m trace \u001b[38;5;129;01min\u001b[39;00m obs:\n",
      "File \u001b[0;32m~/Documents/Transformer_Kalman/TFs_do_KF_ICL/src/data_processing.py:37\u001b[0m, in \u001b[0;36mget_val_data\u001b[0;34m(valA, C_dist, exper, nx)\u001b[0m\n\u001b[1;32m     35\u001b[0m     gc\u001b[38;5;241m.\u001b[39mcollect()\n\u001b[1;32m     36\u001b[0m \u001b[38;5;28;01melse\u001b[39;00m:\n\u001b[0;32m---> 37\u001b[0m     \u001b[38;5;28;01mraise\u001b[39;00m \u001b[38;5;167;01mValueError\u001b[39;00m(\u001b[38;5;124mf\u001b[39m\u001b[38;5;124m\"\u001b[39m\u001b[38;5;124mState dim \u001b[39m\u001b[38;5;132;01m{\u001b[39;00mnx\u001b[38;5;132;01m}\u001b[39;00m\u001b[38;5;124m validation data does not exist for this experiment\u001b[39m\u001b[38;5;124m\"\u001b[39m)\n\u001b[1;32m     38\u001b[0m \u001b[38;5;28;01mreturn\u001b[39;00m obs\n",
      "\u001b[0;31mValueError\u001b[0m: State dim 3 validation data does not exist for this experiment"
     ]
    }
   ],
   "source": [
    "num_train_samples = (2000*2000)*0.05\n",
    "print(num_train_samples)\n",
    "\n",
    "d = 2 # Number of elements to take from axis 0\n",
    "\n",
    "nxs = [3,10,20]\n",
    "x = []\n",
    "for i in range(2): #classify first two experiments\n",
    "    obs = get_val_data(valA, C_dist, experiments[0], nxs[i])\n",
    "    count = 0\n",
    "    for trace in obs:\n",
    "        if count < 0.5 * num_train_samples:\n",
    "            x.append(pairwise_mul(trace, d))\n",
    "        else:\n",
    "            continue\n",
    "\n",
    "        count += 1\n",
    "\n",
    "x = np.array(x)\n",
    "\n",
    "\n",
    "train_set_size = x.shape\n",
    "print(train_set_size)\n",
    "\n"
   ]
  },
  {
   "cell_type": "code",
   "execution_count": 14,
   "metadata": {},
   "outputs": [
    {
     "ename": "NameError",
     "evalue": "name 'train_set_size' is not defined",
     "output_type": "error",
     "traceback": [
      "\u001b[0;31m---------------------------------------------------------------------------\u001b[0m",
      "\u001b[0;31mNameError\u001b[0m                                 Traceback (most recent call last)",
      "Cell \u001b[0;32mIn[14], line 1\u001b[0m\n\u001b[0;32m----> 1\u001b[0m N \u001b[38;5;241m=\u001b[39m train_set_size[\u001b[38;5;241m0\u001b[39m]\n\u001b[1;32m      2\u001b[0m p \u001b[38;5;241m=\u001b[39m train_set_size[\u001b[38;5;241m1\u001b[39m]\n\u001b[1;32m      3\u001b[0m y \u001b[38;5;241m=\u001b[39m np\u001b[38;5;241m.\u001b[39mconcatenate((np\u001b[38;5;241m.\u001b[39mones(\u001b[38;5;28mint\u001b[39m(N\u001b[38;5;241m/\u001b[39m\u001b[38;5;241m2\u001b[39m)),np\u001b[38;5;241m.\u001b[39mzeros(\u001b[38;5;28mint\u001b[39m(N\u001b[38;5;241m/\u001b[39m\u001b[38;5;241m2\u001b[39m))))\n",
      "\u001b[0;31mNameError\u001b[0m: name 'train_set_size' is not defined"
     ]
    }
   ],
   "source": [
    "N = train_set_size[0]\n",
    "p = train_set_size[1]\n",
    "y = np.concatenate((np.ones(int(N/2)),np.zeros(int(N/2))))\n",
    "x = np.concatenate((np.ones((N,1)),x),axis=1)\n",
    "\n",
    "beta0 = np.zeros(p+1)\n",
    "print(\"shape of x:\", x.shape)\n",
    "print(\"shape of y:\", y.shape)\n",
    "print(\"shape of beta0:\", beta0.shape)"
   ]
  },
  {
   "cell_type": "code",
   "execution_count": null,
   "metadata": {},
   "outputs": [
    {
     "name": "stdout",
     "output_type": "stream",
     "text": [
      "(200000, 101)\n"
     ]
    }
   ],
   "source": [
    "# x = x[:,:-1]\n",
    "# print(x.shape)"
   ]
  },
  {
   "cell_type": "code",
   "execution_count": 13,
   "metadata": {},
   "outputs": [
    {
     "ename": "NameError",
     "evalue": "name 'y' is not defined",
     "output_type": "error",
     "traceback": [
      "\u001b[0;31m---------------------------------------------------------------------------\u001b[0m",
      "\u001b[0;31mNameError\u001b[0m                                 Traceback (most recent call last)",
      "Cell \u001b[0;32mIn[13], line 3\u001b[0m\n\u001b[1;32m      1\u001b[0m \u001b[38;5;66;03m# compute the scores using sklearn logistic regression\u001b[39;00m\n\u001b[1;32m      2\u001b[0m clf \u001b[38;5;241m=\u001b[39m LogisticRegression()\n\u001b[0;32m----> 3\u001b[0m clf\u001b[38;5;241m.\u001b[39mfit(x, y)\n\u001b[1;32m      4\u001b[0m \u001b[38;5;28mprint\u001b[39m(\u001b[38;5;124m\"\u001b[39m\u001b[38;5;124msklearn weights:\u001b[39m\u001b[38;5;124m\"\u001b[39m, clf\u001b[38;5;241m.\u001b[39mcoef_)\n\u001b[1;32m      5\u001b[0m \u001b[38;5;28mprint\u001b[39m(\u001b[38;5;124m\"\u001b[39m\u001b[38;5;124msklearn intercept:\u001b[39m\u001b[38;5;124m\"\u001b[39m, clf\u001b[38;5;241m.\u001b[39mintercept_)\n",
      "\u001b[0;31mNameError\u001b[0m: name 'y' is not defined"
     ]
    }
   ],
   "source": [
    "# compute the scores using sklearn logistic regression\n",
    "clf = LogisticRegression()\n",
    "clf.fit(x, y)\n",
    "print(\"sklearn weights:\", clf.coef_)\n",
    "print(\"sklearn intercept:\", clf.intercept_)\n",
    "print(\"sklearn score:\", clf.score(x, y))\n",
    "\n"
   ]
  },
  {
   "cell_type": "code",
   "execution_count": 12,
   "metadata": {},
   "outputs": [
    {
     "ename": "NameError",
     "evalue": "name 'clf' is not defined",
     "output_type": "error",
     "traceback": [
      "\u001b[0;31m---------------------------------------------------------------------------\u001b[0m",
      "\u001b[0;31mNameError\u001b[0m                                 Traceback (most recent call last)",
      "Cell \u001b[0;32mIn[12], line 2\u001b[0m\n\u001b[1;32m      1\u001b[0m \u001b[38;5;66;03m#create a histogram of the weights and a histogram of the scores\u001b[39;00m\n\u001b[0;32m----> 2\u001b[0m plt\u001b[38;5;241m.\u001b[39mhist(clf\u001b[38;5;241m.\u001b[39mcoef_[\u001b[38;5;241m0\u001b[39m], bins\u001b[38;5;241m=\u001b[39m\u001b[38;5;241m100\u001b[39m)\n\u001b[1;32m      3\u001b[0m plt\u001b[38;5;241m.\u001b[39mtitle(\u001b[38;5;124m\"\u001b[39m\u001b[38;5;124mHistogram of weights\u001b[39m\u001b[38;5;124m\"\u001b[39m)\n\u001b[1;32m      4\u001b[0m plt\u001b[38;5;241m.\u001b[39mshow()\n",
      "\u001b[0;31mNameError\u001b[0m: name 'clf' is not defined"
     ]
    }
   ],
   "source": [
    "#create a histogram of the weights and a histogram of the scores\n",
    "plt.hist(clf.coef_[0], bins=100)\n",
    "plt.title(\"Histogram of weights\")\n",
    "plt.show()\n",
    "\n",
    "plt.hist(clf.predict(x), bins=100)\n",
    "plt.title(\"Histogram of scores\")\n",
    "plt.show()\n",
    "\n"
   ]
  },
  {
   "cell_type": "code",
   "execution_count": null,
   "metadata": {},
   "outputs": [
    {
     "data": {
      "image/png": "[encoded data removed]",
      "text/plain": [
       "<Figure size 640x480 with 1 Axes>"
      ]
     },
     "metadata": {},
     "output_type": "display_data"
    }
   ],
   "source": [
    "#plot the decision boundary\n",
    "plt.scatter(x[:,1],x[:,2],c=y)\n",
    "plt.plot(x[:,1],-(beta[0]+beta[1]*x[:,1])/beta[2])\n",
    "plt.xlabel(\"x1\")\n",
    "plt.ylabel(\"x2\")\n",
    "plt.title(\"Decision boundary\")\n",
    "plt.show()\n"
   ]
  },
  {
   "cell_type": "code",
   "execution_count": 173,
   "metadata": {},
   "outputs": [
    {
     "data": {
      "image/png": "[encoded data removed]",
      "text/plain": [
       "<Figure size 640x480 with 2 Axes>"
      ]
     },
     "metadata": {},
     "output_type": "display_data"
    }
   ],
   "source": [
    "#plot predicted probabilities\n",
    "plt.scatter(x[:,1],x[:,2],c=logistic(x,beta))\n",
    "#add colorbar\n",
    "plt.colorbar()\n",
    "plt.xlabel(\"x1\")\n",
    "plt.ylabel(\"x2\")\n",
    "plt.title(\"Predicted probabilities\")\n",
    "plt.show()"
   ]
  }
 ],
 "metadata": {
  "kernelspec": {
   "display_name": "base",
   "language": "python",
   "name": "python3"
  },
  "language_info": {
   "codemirror_mode": {
    "name": "ipython",
    "version": 3
   },
   "file_extension": ".py",
   "mimetype": "text/x-python",
   "name": "python",
   "nbconvert_exporter": "python",
   "pygments_lexer": "ipython3",
   "version": "3.11.0"
  }
 },
 "nbformat": 4,
 "nbformat_minor": 2
}
